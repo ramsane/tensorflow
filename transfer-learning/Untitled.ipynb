{
 "cells": [
  {
   "cell_type": "markdown",
   "metadata": {
    "heading_collapsed": true
   },
   "source": [
    "# Longest consecutive Sequence"
   ]
  },
  {
   "cell_type": "markdown",
   "metadata": {
    "hidden": true
   },
   "source": [
    "Send Feedback\n",
    "You are given with an array of integers that contain numbers in random order. Write a program to find the longest possible sequence of consecutive numbers using the numbers from given array.\n",
    "You need to return the output array which contains consecutive elements. Order of elements in the output is not important.\n",
    "Best solution takes O(n) time.\n",
    "If two sequences are of equal length then return the sequence starting with the number whose occurrence is earlier in the array.\n",
    "Input Format :\n",
    "Line 1 : Integer n, Size of array\n",
    "Line 2 : Array elements (separated by space)\n",
    "Constraints :\n",
    "1 <= n <= 50000\n",
    "Sample Input 1 :\n",
    "13\n",
    "2 12 9 16 10 5 3 20 25 11 1 8 6 \n",
    "Sample Output 1 :\n",
    "8 \n",
    "9 \n",
    "10 \n",
    "11 \n",
    "12\n",
    "Sample Input 2 :\n",
    "7\n",
    "3 7 2 1 9 8 1\n",
    "Sample Output 2 :\n",
    "7\n",
    "8\n",
    "9\n",
    "Explanation: Sequence should be of consecutive numbers. Here we have 2 sequences with same length i.e. [1, 2, 3] and [7, 8, 9], but output should be [7, 8, 9] because the starting point of [7, 8, 9] comes first in input array.\n",
    "Sample Input 3 :\n",
    "7\n",
    "15 24 23 12 19 11 16\n",
    "Sample Output 3 :\n",
    "15 \n",
    "16"
   ]
  },
  {
   "cell_type": "markdown",
   "metadata": {},
   "source": [
    "# Pairs with difference K\n"
   ]
  },
  {
   "cell_type": "markdown",
   "metadata": {},
   "source": [
    "Send Feedback\n",
    "You are given with an array of integers and an integer K. Write a program to find and print all pairs which have difference K.\n",
    "Best solution takes O(n) time. And take difference as absolute.\n",
    "Input Format :\n",
    "Line 1 : Integer n, Size of array\n",
    "Line 2 : Array elements (separated by space)\n",
    "Line 3 : K\n",
    "Output format :\n",
    "Print pairs in different lines (pair elements separated by space). In a pair, smaller element should be printed first.\n",
    "(Order of different pairs is not important)\n",
    "Constraints :\n",
    "1 <= n <= 5000\n",
    "Sample Input 1 :\n",
    "4\n",
    "5 1 2 4\n",
    "3\n",
    "Sample Output 1 :\n",
    "2 5\n",
    "1 4\n",
    "Sample Input 2 :\n",
    "4\n",
    "4 4 4 4 \n",
    "0\n",
    "Sample Output 2 :\n",
    "4 4\n",
    "4 4\n",
    "4 4\n",
    "4 4\n",
    "4 4\n",
    "4 4"
   ]
  },
  {
   "cell_type": "code",
   "execution_count": 177,
   "metadata": {
    "ExecuteTime": {
     "end_time": "2020-02-03T18:18:27.672485Z",
     "start_time": "2020-02-03T18:18:27.646450Z"
    }
   },
   "outputs": [
    {
     "name": "stdout",
     "output_type": "stream",
     "text": [
      "{4: [0, 1, 2, 3], 3: [4]}\n",
      "4 4\n",
      "4 4\n",
      "4 4\n",
      "4 4\n",
      "4 4\n",
      "4 4\n",
      "3 3\n"
     ]
    }
   ],
   "source": [
    "def printPairDiffK(l, k):\n",
    "    d = {}\n",
    "    for i, v in enumerate(l):\n",
    "        if v in d:\n",
    "            d[v] += [i]\n",
    "        else:\n",
    "            d[v] = [i]\n",
    "    print(d)\n",
    "    for i,v in enumerate(l):\n",
    "        if k+v in d:\n",
    "            indices = d[k+v]\n",
    "            if len(indices)==1:\n",
    "                print(v, k+v)\n",
    "            else:\n",
    "                for _ in range\n",
    "                for index in indices:\n",
    "                    if i<index:\n",
    "                        print(v, k+v)\n",
    "\n",
    "\n",
    "# n=int(input())\n",
    "# l=list(int(i) for i in input().strip().split(' '))\n",
    "# k=int(input())\n",
    "\n",
    "# n = 4 \n",
    "# l = [5, 1, 2, 4, -1, -2]\n",
    "# k = 3\n",
    "\n",
    "n = 4 \n",
    "l = [4,4,4,4,3]\n",
    "k = 0\n",
    "\n",
    "# n = 10\n",
    "# l = [-334, 108, 35, -154, 58, -185, 8, -111, -91, 45]\n",
    "# k = 243\n",
    "\n",
    "printPairDiffK(l, k)"
   ]
  },
  {
   "cell_type": "code",
   "execution_count": 179,
   "metadata": {
    "ExecuteTime": {
     "end_time": "2020-02-03T18:23:24.369537Z",
     "start_time": "2020-02-03T18:23:24.355490Z"
    }
   },
   "outputs": [
    {
     "name": "stdout",
     "output_type": "stream",
     "text": [
      "{4: [0, 1, 2, 3], 3: [4]}\n"
     ]
    }
   ],
   "source": [
    "d = {}\n",
    "for i, v in enumerate(l):\n",
    "    if v in d:\n",
    "        d[v] += [i]\n",
    "    else:\n",
    "        d[v] = [i]\n",
    "print(d)"
   ]
  },
  {
   "cell_type": "code",
   "execution_count": null,
   "metadata": {},
   "outputs": [],
   "source": []
  },
  {
   "cell_type": "code",
   "execution_count": 184,
   "metadata": {
    "ExecuteTime": {
     "end_time": "2020-02-03T18:25:44.869622Z",
     "start_time": "2020-02-03T18:25:44.857658Z"
    }
   },
   "outputs": [
    {
     "name": "stdout",
     "output_type": "stream",
     "text": [
      "[0, 1, 2, 3]\n",
      "4\n",
      "4\n",
      "4\n",
      "4\n",
      "[4]\n",
      "3\n"
     ]
    }
   ],
   "source": [
    "for v in d.values():\n",
    "    print(v)\n",
    "    for i in v:\n",
    "        print(l[i])\n",
    "#     if k+v in d:\n",
    "#         indices = d[k+v]\n",
    "#         if len(indices)==1:\n",
    "#             print(v, k+v)\n",
    "#         else:\n",
    "#             for _ in range\n",
    "#             for index in indices:\n",
    "#                 if i<index:\n",
    "#                     print(v, k+v)"
   ]
  },
  {
   "cell_type": "code",
   "execution_count": 172,
   "metadata": {
    "ExecuteTime": {
     "end_time": "2020-02-03T18:14:54.364526Z",
     "start_time": "2020-02-03T18:14:54.347515Z"
    }
   },
   "outputs": [
    {
     "data": {
      "text/plain": [
       "dict_items([(1, 5)])"
      ]
     },
     "execution_count": 172,
     "metadata": {},
     "output_type": "execute_result"
    }
   ],
   "source": [
    "{1:5}.items()"
   ]
  },
  {
   "cell_type": "markdown",
   "metadata": {
    "heading_collapsed": true
   },
   "source": [
    "# Longest subset zero sum"
   ]
  },
  {
   "cell_type": "markdown",
   "metadata": {
    "hidden": true
   },
   "source": [
    "Send Feedback\n",
    "Given an array consisting of positive and negative integers, find the length of the longest continuous subset whose sum is zero.\n",
    "NOTE: You have to return the length of longest subset .\n",
    "Input Format :\n",
    "Line 1 : Contains an integer N i.e. size of array\n",
    "\n",
    "Line 2 : Contains N elements of the array, separated by spaces\n",
    "Output Format\n",
    " Line 1 : Length of longest continuous subset \n",
    "Sample Input :\n",
    "10 \n",
    " 95 -97 -387 -435 -5 -70 897 127 23 284\n",
    "Sample Output :\n",
    "5"
   ]
  },
  {
   "cell_type": "code",
   "execution_count": 109,
   "metadata": {
    "ExecuteTime": {
     "end_time": "2020-02-03T16:33:17.614630Z",
     "start_time": "2020-02-03T16:33:17.595626Z"
    },
    "hidden": true
   },
   "outputs": [
    {
     "name": "stdout",
     "output_type": "stream",
     "text": [
      "5\n"
     ]
    }
   ],
   "source": [
    "def subsetSum(l):\n",
    "    ms = -1\n",
    "    for index in range(len(l)):\n",
    "        s = 0\n",
    "        for i, v in enumerate(l[index:]):\n",
    "            s+=v\n",
    "            if s==0:\n",
    "                if ms<i+1:\n",
    "                    ms = i+1\n",
    "                break\n",
    "    return ms\n",
    "\n",
    "# n=int(input())\n",
    "# l=list(int(i) for i in input().strip().split(' '))\n",
    "l = [95, -97, -387, -435, -5, -70, 897, 127, 23, 284]\n",
    "finalLen= subsetSum(l)\n",
    "print(finalLen)"
   ]
  },
  {
   "cell_type": "code",
   "execution_count": 118,
   "metadata": {
    "ExecuteTime": {
     "end_time": "2020-02-03T16:33:20.968935Z",
     "start_time": "2020-02-03T16:33:20.950972Z"
    },
    "hidden": true
   },
   "outputs": [
    {
     "name": "stdout",
     "output_type": "stream",
     "text": [
      "5\n"
     ]
    }
   ],
   "source": [
    "def subsetSum(l):\n",
    "    d = {}\n",
    "    ms = -1\n",
    "    s = 0\n",
    "    for index in range(len(l)):\n",
    "        s += l[index]\n",
    "        if s in d:\n",
    "            ms = max(ms, index-d[s])\n",
    "        else:\n",
    "            d[s] = index\n",
    "    return ms\n",
    "\n",
    "# n=int(input())\n",
    "# l=list(int(i) for i in input().strip().split(' '))\n",
    "l = [95, -97, -387, -435, -5, -70, 897, 127, 23, 284]\n",
    "finalLen= subsetSum(l)\n",
    "print(finalLen)"
   ]
  },
  {
   "cell_type": "code",
   "execution_count": 77,
   "metadata": {
    "ExecuteTime": {
     "end_time": "2020-02-03T16:31:24.800515Z",
     "start_time": "2020-02-03T16:31:24.780522Z"
    },
    "hidden": true
   },
   "outputs": [
    {
     "data": {
      "text/plain": [
       "10"
      ]
     },
     "execution_count": 77,
     "metadata": {},
     "output_type": "execute_result"
    }
   ],
   "source": [
    "len(l)"
   ]
  },
  {
   "cell_type": "code",
   "execution_count": 80,
   "metadata": {
    "ExecuteTime": {
     "end_time": "2020-02-03T16:31:50.910493Z",
     "start_time": "2020-02-03T16:31:50.902540Z"
    },
    "hidden": true
   },
   "outputs": [
    {
     "name": "stdout",
     "output_type": "stream",
     "text": [
      "5\n"
     ]
    }
   ],
   "source": [
    "ms = 0\n",
    "d = {}\n",
    "s = 0\n",
    "\n",
    "for index in range(len(l)):\n",
    "    s+=l[index]\n",
    "    if s in d:\n",
    "        ms = max(ms, index-d[s])\n",
    "    else:\n",
    "        d[s] = index\n",
    "\n",
    "print(ms)"
   ]
  },
  {
   "cell_type": "code",
   "execution_count": 74,
   "metadata": {
    "ExecuteTime": {
     "end_time": "2020-02-03T16:27:54.859239Z",
     "start_time": "2020-02-03T16:27:54.848237Z"
    },
    "hidden": true
   },
   "outputs": [
    {
     "name": "stdout",
     "output_type": "stream",
     "text": [
      "Length of the longest 0 sum subarray is  3\n"
     ]
    }
   ],
   "source": [
    "# A python program to find maximum length subarray \n",
    "# with 0 sum in o(n) time \n",
    "\n",
    "# Returns the maximum length \n",
    "def maxLen(arr): \n",
    "\t\n",
    "\t# NOTE: Dictonary in python in implemented as Hash Maps \n",
    "\t# Create an empty hash map (dictionary) \n",
    "\thash_map = {} \n",
    "\n",
    "\t# Initialize result \n",
    "\tmax_len = 0\n",
    "\n",
    "\t# Initialize sum of elements \n",
    "\tcurr_sum = 0\n",
    "\n",
    "\t# Traverse through the given array \n",
    "\tfor i in range(len(arr)): \n",
    "\t\t\n",
    "\t\t# Add the current element to the sum \n",
    "\t\tcurr_sum += arr[i] \n",
    "\n",
    "\t\tif arr[i] is 0 and max_len is 0: \n",
    "\t\t\tmax_len = 1\n",
    "\n",
    "\t\tif curr_sum is 0: \n",
    "\t\t\tmax_len = i + 1\n",
    "\n",
    "\t\t# NOTE: 'in' operation in dictionary to search \n",
    "\t\t# key takes O(1). Look if current sum is seen \n",
    "\t\t# before \n",
    "\t\tif curr_sum in hash_map: \n",
    "\t\t\tmax_len = max(max_len, i - hash_map[curr_sum] ) \n",
    "\t\telse: \n",
    "\n",
    "\t\t\t# else put this sum in dictionary \n",
    "\t\t\thash_map[curr_sum] = i \n",
    "\n",
    "\treturn max_len \n",
    "\n",
    "\n",
    "# test array \n",
    "arr = [-2, 15, 2, -8, 1, 7, 10, 13] \n",
    "\n",
    "print(\"Length of the longest 0 sum subarray is % d\" % maxLen(arr))\n"
   ]
  }
 ],
 "metadata": {
  "kernelspec": {
   "display_name": "Python 3.7.1 64-bit ('tf2': conda)",
   "language": "python",
   "name": "python37164bittf2conda087c3d58f46c4b629d08798107e7912e"
  },
  "language_info": {
   "codemirror_mode": {
    "name": "ipython",
    "version": 3
   },
   "file_extension": ".py",
   "mimetype": "text/x-python",
   "name": "python",
   "nbconvert_exporter": "python",
   "pygments_lexer": "ipython3",
   "version": "3.7.6"
  },
  "toc": {
   "base_numbering": 1,
   "nav_menu": {},
   "number_sections": true,
   "sideBar": true,
   "skip_h1_title": false,
   "title_cell": "Table of Contents",
   "title_sidebar": "Contents",
   "toc_cell": false,
   "toc_position": {},
   "toc_section_display": true,
   "toc_window_display": false
  }
 },
 "nbformat": 4,
 "nbformat_minor": 4
}
