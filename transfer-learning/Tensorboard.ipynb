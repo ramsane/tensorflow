{
 "cells": [
  {
   "cell_type": "code",
   "execution_count": 1,
   "metadata": {
    "Collapsed": "false",
    "ExecuteTime": {
     "end_time": "2020-01-16T10:46:41.776969Z",
     "start_time": "2020-01-16T10:46:39.420974Z"
    },
    "scrolled": true
   },
   "outputs": [],
   "source": [
    "import tensorflow as tf\n",
    "from tensorflow.keras import datasets, layers, models\n",
    "\n",
    "import os\n",
    "from datetime import datetime\n",
    "import math\n",
    "from time import perf_counter\n",
    "\n",
    "import random"
   ]
  },
  {
   "cell_type": "code",
   "execution_count": 8,
   "metadata": {
    "Collapsed": "false",
    "ExecuteTime": {
     "end_time": "2020-01-16T11:05:04.393319Z",
     "start_time": "2020-01-16T11:05:04.376096Z"
    },
    "code_folding": []
   },
   "outputs": [],
   "source": [
    "class CIFARModel(tf.keras.Model):\n",
    "    def __init__(self, **kwargs):\n",
    "        super(CIFARModel, self).__init__(**kwargs)\n",
    "        # features layer\n",
    "        self.features = tf.keras.Sequential(layers=[\n",
    "            layers.Conv2D(filters=32, kernel_size=(3,3), activation='relu',\n",
    "                          input_shape=(32, 32,3), name=\"conv1\", dtype=tf.float32),\n",
    "            layers.MaxPooling2D(pool_size=(2,2), name=\"maxpool1\"),\n",
    "            layers.Conv2D(filters=64, kernel_size=(3,3), activation='relu', name=\"conv2\"),\n",
    "            layers.MaxPooling2D(pool_size=(2,2), name=\"maxpool2\"),\n",
    "            layers.Conv2D(filters=64, kernel_size=(3,3), activation='relu', name=\"conv3\")\n",
    "        ], name=\"feature\")\n",
    "        \n",
    "        # Fully connected neural network\n",
    "        self.dense = tf.keras.Sequential(layers=[\n",
    "            layers.Flatten(data_format=\"channels_last\", input_shape=(4, 4, 64)),\n",
    "            layers.Dense(units=64, activation='relu'),\n",
    "            layers.Dense(units=10, activation='softmax', name=\"output\")\n",
    "        ], name=\"dense\")\n",
    "    \n",
    "    @tf.function\n",
    "    def call(self, x):\n",
    "        return self.dense(self.features(x))\n",
    "\n",
    "    def evaluate(self, data, loss_fn, acc_fn, train=False):\n",
    "        logits, labels = list(), list()\n",
    "        for batch, labels_ in data:\n",
    "            logits.append(self.call(batch))\n",
    "            labels.append(labels_)\n",
    "\n",
    "        y_pred = tf.concat(logits, axis=0)\n",
    "        y_true = tf.concat(labels, axis=0)\n",
    "        loss = loss_fn(y_true=y_true, y_pred=y_pred)\n",
    "\n",
    "        acc = acc_fn(y_true=y_true, y_pred=y_pred)\n",
    "        return acc.numpy(), loss.numpy()\n",
    "    \n",
    "    @tf.function\n",
    "    def train_step(self, batch, labels, loss_fn, optimizer, acc_fn):\n",
    "        with tf.GradientTape() as tape:\n",
    "            # recored all the values on a tape in forward pass\n",
    "            out = self.call(batch)\n",
    "            loss = loss_fn(y_true=labels, y_pred=out)\n",
    "        \n",
    "        # backward pass : grad of parameters w.r.t Loss\n",
    "        gradients = tape.gradient(loss, self.trainable_variables)\n",
    "        optimizer.apply_gradients(grads_and_vars=zip(gradients, self.trainable_variables))\n",
    "        acc = acc_fn(y_true=labels, y_pred=out)\n",
    "        # return the loss before applying the gradients\n",
    "        return loss, acc"
   ]
  },
  {
   "cell_type": "code",
   "execution_count": 32,
   "metadata": {
    "Collapsed": "false",
    "ExecuteTime": {
     "end_time": "2020-01-16T12:47:06.517609Z",
     "start_time": "2020-01-16T12:47:06.488614Z"
    }
   },
   "outputs": [],
   "source": [
    "def train(model, optimizer, loss_fn, acc_fn, train_data, train_size, train_batch_size, validation_data, epochs=1):   \n",
    "    train_params = {'loss':[], 'accuracy': [], 'epoch':[]}\n",
    "    val_params = {'loss':[], 'accuracy': [], 'epoch':[]}\n",
    "    loss_arr = []  # this is for every iteration\n",
    "\n",
    "    # we will calculate them while training the epoch\n",
    "    iters = math.ceil(train_size/train_batch_size)\n",
    "    \n",
    "    tml = tf.metrics.Mean(name=\"train_loss\")\n",
    "    tma = tf.metrics.Mean(name=\"train_acc\")\n",
    "    global_st = perf_counter()\n",
    "    for epoch in range(epochs):\n",
    "        local_st = perf_counter()\n",
    "        # for printing training params\n",
    "        template = \"Epoch:{}/{}  iter:{}/{}  loss:{:0.5f}  acc:{:0.4f}  \"\n",
    "\n",
    "        tml.reset_states()\n",
    "        tma.reset_states()\n",
    "        st = perf_counter()\n",
    "        l_, a_ = [], []\n",
    "        for i, data in enumerate(train_data):\n",
    "            batch, labels = data\n",
    "\n",
    "            # calculate the train_size and val_size if they are not none\n",
    "            loss, acc = model.train_step(batch, labels, loss_fn, optimizer, acc_fn)\n",
    "            loss_arr.append(loss)\n",
    "\n",
    "            # to calculate the training loss and accuracy\n",
    "            l_.append(loss)\n",
    "            a_.append(acc)\n",
    "            if i%50==0:\n",
    "#                 print(template.format(epoch+1, epochs,\n",
    "#                                      i+1,iters,\n",
    "#                                      loss, acc)\n",
    "#                       , end='\\r')\n",
    "                with tf.name_scope('per_step_training'):\n",
    "                    with wtrain.as_default():\n",
    "                        tf.summary.scalar(\"loss\", loss, step=epoch*iters+i)\n",
    "                        tf.summary.scalar(\"acc\", acc, step=epoch*iters+i)\n",
    "        \n",
    "        # calculate the validation loss\n",
    "        tml.update_state(l_)\n",
    "        tma.update_state(a_)\n",
    "        train_params['loss'].append(tml.result().numpy())\n",
    "        train_params['accuracy'].append(tma.result().numpy())\n",
    "        train_params['epoch'].append(epoch+1)\n",
    "\n",
    "        val_acc, val_loss = model.evaluate(validation_data, loss_fn, acc_fn)\n",
    "        val_params['loss'].append(val_loss)\n",
    "        val_params['accuracy'].append(val_acc)\n",
    "        val_params['epoch'].append(epoch+1)\n",
    "        template += \"val_loss:{:0.5f}  val_acc:{:0.4f} - {:0.0f}s(total: {:0.0f}s)\"\n",
    "        print(template.format(epoch+1, epochs,\n",
    "                              i+1,iters,\n",
    "                              tml.result().numpy(), tma.result().numpy(), \n",
    "                              val_loss, val_acc,\n",
    "                              perf_counter()-local_st, perf_counter()-global_st))\n",
    "\n",
    "        # write them to the tensorboard\n",
    "        with tf.name_scope(\"per_epoch_params\"):\n",
    "            with wtrain.as_default():\n",
    "                tf.summary.scalar(\"loss\", tml.result().numpy(), step=epoch)\n",
    "                tf.summary.scalar(\"acc\", tma.result().numpy(), step=epoch)\n",
    "                wtrain.flush()\n",
    "            \n",
    "            with wtest.as_default():\n",
    "                tf.summary.scalar(\"loss\", val_loss, step=epoch)\n",
    "                tf.summary.scalar(\"acc\", val_acc, step=epoch)\n",
    "                wtest.flush()\n",
    "            \n",
    "    # return the history of training\n",
    "    return train_params, val_params, loss_arr"
   ]
  },
  {
   "cell_type": "code",
   "execution_count": 33,
   "metadata": {
    "Collapsed": "false",
    "ExecuteTime": {
     "end_time": "2020-01-16T12:47:07.566119Z",
     "start_time": "2020-01-16T12:47:07.458970Z"
    }
   },
   "outputs": [],
   "source": [
    "model = CIFARModel(name=\"CIFARModel\")"
   ]
  },
  {
   "cell_type": "markdown",
   "metadata": {
    "Collapsed": "false"
   },
   "source": [
    "- Prepare the data"
   ]
  },
  {
   "cell_type": "code",
   "execution_count": 34,
   "metadata": {
    "Collapsed": "false",
    "ExecuteTime": {
     "end_time": "2020-01-16T12:47:09.369089Z",
     "start_time": "2020-01-16T12:47:08.168090Z"
    }
   },
   "outputs": [
    {
     "data": {
      "text/plain": [
       "((50000, 32, 32, 3), (50000, 1), (10000, 32, 32, 3), (10000, 1))"
      ]
     },
     "execution_count": 34,
     "metadata": {},
     "output_type": "execute_result"
    }
   ],
   "source": [
    "(train_images, train_labels), (test_images, test_labels) = datasets.cifar10.load_data()\n",
    "# Normalize pixel values to be between 0 and 1\n",
    "train_images, test_images = train_images / 255.0, test_images / 255.0\n",
    "train_images.shape, train_labels.shape, test_images.shape, test_labels.shape"
   ]
  },
  {
   "cell_type": "code",
   "execution_count": 35,
   "metadata": {
    "Collapsed": "false",
    "ExecuteTime": {
     "end_time": "2020-01-16T12:47:10.056119Z",
     "start_time": "2020-01-16T12:47:09.371085Z"
    }
   },
   "outputs": [],
   "source": [
    "batch_size = 256\n",
    "\n",
    "trainloader = tf.data.Dataset.from_tensor_slices((train_images, train_labels)).batch(batch_size).shuffle(buffer_size=50000)\n",
    "test_loader = tf.data.Dataset.from_tensor_slices((test_images, test_labels)).batch(batch_size)\n"
   ]
  },
  {
   "cell_type": "code",
   "execution_count": 36,
   "metadata": {
    "Collapsed": "false",
    "ExecuteTime": {
     "end_time": "2020-01-16T12:47:10.072123Z",
     "start_time": "2020-01-16T12:47:10.058123Z"
    }
   },
   "outputs": [
    {
     "data": {
      "text/plain": [
       "50000"
      ]
     },
     "execution_count": 36,
     "metadata": {},
     "output_type": "execute_result"
    }
   ],
   "source": [
    "train_size = train_images.shape[0]\n",
    "train_size"
   ]
  },
  {
   "cell_type": "code",
   "execution_count": 37,
   "metadata": {
    "Collapsed": "false",
    "ExecuteTime": {
     "end_time": "2020-01-16T12:47:12.626229Z",
     "start_time": "2020-01-16T12:47:12.610225Z"
    }
   },
   "outputs": [],
   "source": [
    "scce = tf.keras.losses.SparseCategoricalCrossentropy()\n",
    "sca = tf.metrics.SparseCategoricalAccuracy()\n",
    "optimizer = tf.optimizers.Adam(learning_rate=1e-3)"
   ]
  },
  {
   "cell_type": "code",
   "execution_count": 38,
   "metadata": {
    "Collapsed": "false",
    "ExecuteTime": {
     "end_time": "2020-01-16T12:47:13.159133Z",
     "start_time": "2020-01-16T12:47:13.041191Z"
    }
   },
   "outputs": [],
   "source": [
    "wtrain = tf.summary.create_file_writer(logdir=\"logs/1e-3/train\")"
   ]
  },
  {
   "cell_type": "code",
   "execution_count": 39,
   "metadata": {
    "Collapsed": "false",
    "ExecuteTime": {
     "end_time": "2020-01-16T12:47:13.423190Z",
     "start_time": "2020-01-16T12:47:13.375222Z"
    }
   },
   "outputs": [],
   "source": [
    "wtest = tf.summary.create_file_writer(logdir=\"logs/1e-3/test\")"
   ]
  },
  {
   "cell_type": "code",
   "execution_count": 40,
   "metadata": {
    "Collapsed": "false",
    "ExecuteTime": {
     "end_time": "2020-01-16T12:56:45.380652Z",
     "start_time": "2020-01-16T12:47:14.484797Z"
    },
    "scrolled": true
   },
   "outputs": [
    {
     "name": "stdout",
     "output_type": "stream",
     "text": [
      "Epoch:1/100  iter:196/196  loss:1.75026  acc:0.2840  val_loss:1.50510  val_acc:0.3840 - 6s(total: 6s)\n",
      "Epoch:2/100  iter:196/196  loss:1.38152  acc:0.4138  val_loss:1.35461  val_acc:0.4457 - 4s(total: 10s)\n",
      "Epoch:3/100  iter:196/196  loss:1.24329  acc:0.4640  val_loss:1.20499  val_acc:0.4844 - 4s(total: 14s)\n",
      "Epoch:4/100  iter:196/196  loss:1.13694  acc:0.4976  val_loss:1.12545  val_acc:0.5136 - 4s(total: 17s)\n",
      "Epoch:5/100  iter:196/196  loss:1.05990  acc:0.5240  val_loss:1.06190  val_acc:0.5370 - 4s(total: 21s)\n",
      "Epoch:6/100  iter:196/196  loss:1.00216  acc:0.5453  val_loss:1.03135  val_acc:0.5556 - 4s(total: 25s)\n",
      "Epoch:7/100  iter:196/196  loss:0.95577  acc:0.5625  val_loss:0.98428  val_acc:0.5714 - 4s(total: 29s)\n",
      "Epoch:8/100  iter:196/196  loss:0.91742  acc:0.5774  val_loss:0.96920  val_acc:0.5849 - 4s(total: 33s)\n",
      "Epoch:9/100  iter:196/196  loss:0.87794  acc:0.5902  val_loss:0.92543  val_acc:0.5970 - 4s(total: 36s)\n",
      "Epoch:10/100  iter:196/196  loss:0.84421  acc:0.6019  val_loss:0.89974  val_acc:0.6078 - 4s(total: 40s)\n",
      "Epoch:11/100  iter:196/196  loss:0.81095  acc:0.6123  val_loss:0.87223  val_acc:0.6177 - 4s(total: 44s)\n",
      "Epoch:12/100  iter:196/196  loss:0.79517  acc:0.6216  val_loss:0.93621  val_acc:0.6259 - 4s(total: 47s)\n",
      "Epoch:13/100  iter:196/196  loss:0.76094  acc:0.6295  val_loss:0.89787  val_acc:0.6338 - 4s(total: 51s)\n",
      "Epoch:14/100  iter:196/196  loss:0.74444  acc:0.6372  val_loss:0.84469  val_acc:0.6411 - 4s(total: 55s)\n",
      "Epoch:15/100  iter:196/196  loss:0.71896  acc:0.6443  val_loss:0.88398  val_acc:0.6479 - 4s(total: 59s)\n",
      "Epoch:16/100  iter:196/196  loss:0.69325  acc:0.6509  val_loss:0.85029  val_acc:0.6544 - 4s(total: 62s)\n",
      "Epoch:17/100  iter:196/196  loss:0.67525  acc:0.6573  val_loss:0.83158  val_acc:0.6605 - 4s(total: 66s)\n",
      "Epoch:18/100  iter:196/196  loss:0.65222  acc:0.6634  val_loss:0.83407  val_acc:0.6664 - 4s(total: 70s)\n",
      "Epoch:19/100  iter:196/196  loss:0.64292  acc:0.6689  val_loss:0.82853  val_acc:0.6717 - 4s(total: 73s)\n",
      "Epoch:20/100  iter:196/196  loss:0.62122  acc:0.6741  val_loss:0.82702  val_acc:0.6768 - 4s(total: 77s)\n",
      "Epoch:21/100  iter:196/196  loss:0.60181  acc:0.6791  val_loss:0.82935  val_acc:0.6817 - 4s(total: 81s)\n",
      "Epoch:22/100  iter:196/196  loss:0.58512  acc:0.6840  val_loss:0.86089  val_acc:0.6863 - 4s(total: 85s)\n",
      "Epoch:23/100  iter:196/196  loss:0.57188  acc:0.6885  val_loss:0.83892  val_acc:0.6907 - 4s(total: 89s)\n",
      "Epoch:24/100  iter:196/196  loss:0.54733  acc:0.6929  val_loss:0.85313  val_acc:0.6951 - 4s(total: 92s)\n",
      "Epoch:25/100  iter:196/196  loss:0.53710  acc:0.6971  val_loss:0.85454  val_acc:0.6992 - 4s(total: 96s)\n",
      "Epoch:26/100  iter:196/196  loss:0.51865  acc:0.7012  val_loss:0.85533  val_acc:0.7032 - 4s(total: 100s)\n",
      "Epoch:27/100  iter:196/196  loss:0.50644  acc:0.7051  val_loss:0.85657  val_acc:0.7070 - 4s(total: 104s)\n",
      "Epoch:28/100  iter:196/196  loss:0.49553  acc:0.7089  val_loss:0.87248  val_acc:0.7107 - 4s(total: 108s)\n",
      "Epoch:29/100  iter:196/196  loss:0.47241  acc:0.7126  val_loss:0.88662  val_acc:0.7144 - 4s(total: 112s)\n",
      "Epoch:30/100  iter:196/196  loss:0.45795  acc:0.7162  val_loss:0.89169  val_acc:0.7179 - 4s(total: 115s)\n",
      "Epoch:31/100  iter:196/196  loss:0.44700  acc:0.7196  val_loss:0.91472  val_acc:0.7212 - 4s(total: 119s)\n",
      "Epoch:32/100  iter:196/196  loss:0.43188  acc:0.7230  val_loss:0.94595  val_acc:0.7245 - 4s(total: 123s)\n",
      "Epoch:33/100  iter:196/196  loss:0.42026  acc:0.7262  val_loss:0.91657  val_acc:0.7278 - 4s(total: 127s)\n",
      "Epoch:34/100  iter:196/196  loss:0.40453  acc:0.7295  val_loss:0.93013  val_acc:0.7310 - 5s(total: 131s)\n",
      "Epoch:35/100  iter:196/196  loss:0.38979  acc:0.7326  val_loss:0.96171  val_acc:0.7341 - 6s(total: 137s)\n",
      "Epoch:36/100  iter:196/196  loss:0.37890  acc:0.7357  val_loss:0.95574  val_acc:0.7372 - 4s(total: 141s)\n",
      "Epoch:37/100  iter:196/196  loss:0.37290  acc:0.7387  val_loss:1.00908  val_acc:0.7400 - 4s(total: 145s)\n",
      "Epoch:38/100  iter:196/196  loss:0.35238  acc:0.7416  val_loss:1.00798  val_acc:0.7429 - 4s(total: 149s)\n",
      "Epoch:39/100  iter:196/196  loss:0.34319  acc:0.7444  val_loss:1.01227  val_acc:0.7457 - 4s(total: 153s)\n",
      "Epoch:40/100  iter:196/196  loss:0.32451  acc:0.7473  val_loss:1.06082  val_acc:0.7486 - 4s(total: 156s)\n",
      "Epoch:41/100  iter:196/196  loss:0.31283  acc:0.7501  val_loss:1.10008  val_acc:0.7513 - 4s(total: 160s)\n",
      "Epoch:42/100  iter:196/196  loss:0.31313  acc:0.7528  val_loss:1.13175  val_acc:0.7539 - 4s(total: 164s)\n",
      "Epoch:43/100  iter:196/196  loss:0.29745  acc:0.7553  val_loss:1.10880  val_acc:0.7565 - 6s(total: 170s)\n",
      "Epoch:44/100  iter:196/196  loss:0.29169  acc:0.7580  val_loss:1.10954  val_acc:0.7591 - 5s(total: 175s)\n",
      "Epoch:45/100  iter:196/196  loss:0.27565  acc:0.7605  val_loss:1.15514  val_acc:0.7616 - 5s(total: 181s)\n",
      "Epoch:46/100  iter:196/196  loss:0.26757  acc:0.7629  val_loss:1.19972  val_acc:0.7640 - 4s(total: 184s)\n",
      "Epoch:47/100  iter:196/196  loss:0.25760  acc:0.7654  val_loss:1.22536  val_acc:0.7664 - 4s(total: 188s)\n",
      "Epoch:48/100  iter:196/196  loss:0.24629  acc:0.7678  val_loss:1.23004  val_acc:0.7688 - 5s(total: 193s)\n",
      "Epoch:49/100  iter:196/196  loss:0.23153  acc:0.7701  val_loss:1.26257  val_acc:0.7712 - 5s(total: 198s)\n",
      "Epoch:50/100  iter:196/196  loss:0.22930  acc:0.7725  val_loss:1.28365  val_acc:0.7735 - 4s(total: 202s)\n",
      "Epoch:51/100  iter:196/196  loss:0.21646  acc:0.7748  val_loss:1.30868  val_acc:0.7757 - 4s(total: 206s)\n",
      "Epoch:52/100  iter:196/196  loss:0.21681  acc:0.7770  val_loss:1.31500  val_acc:0.7779 - 6s(total: 212s)\n",
      "Epoch:53/100  iter:196/196  loss:0.19970  acc:0.7792  val_loss:1.38291  val_acc:0.7801 - 5s(total: 218s)\n",
      "Epoch:54/100  iter:196/196  loss:0.18906  acc:0.7813  val_loss:1.37678  val_acc:0.7822 - 4s(total: 223s)\n",
      "Epoch:55/100  iter:196/196  loss:0.19138  acc:0.7834  val_loss:1.42743  val_acc:0.7843 - 4s(total: 228s)\n",
      "Epoch:56/100  iter:196/196  loss:0.17285  acc:0.7855  val_loss:1.45730  val_acc:0.7864 - 6s(total: 234s)\n",
      "Epoch:57/100  iter:196/196  loss:0.17617  acc:0.7875  val_loss:1.48225  val_acc:0.7884 - 4s(total: 238s)\n",
      "Epoch:58/100  iter:196/196  loss:0.16364  acc:0.7895  val_loss:1.50722  val_acc:0.7904 - 4s(total: 242s)\n",
      "Epoch:59/100  iter:196/196  loss:0.15216  acc:0.7915  val_loss:1.54826  val_acc:0.7923 - 5s(total: 247s)\n",
      "Epoch:60/100  iter:196/196  loss:0.15338  acc:0.7935  val_loss:1.59433  val_acc:0.7942 - 4s(total: 253s)\n",
      "Epoch:61/100  iter:196/196  loss:0.14625  acc:0.7953  val_loss:1.65905  val_acc:0.7960 - 5s(total: 259s)\n",
      "Epoch:62/100  iter:196/196  loss:0.16216  acc:0.7970  val_loss:1.62499  val_acc:0.7977 - 5s(total: 265s)\n",
      "Epoch:63/100  iter:196/196  loss:0.12674  acc:0.7988  val_loss:1.68404  val_acc:0.7996 - 4s(total: 270s)\n",
      "Epoch:64/100  iter:196/196  loss:0.12492  acc:0.8006  val_loss:1.74595  val_acc:0.8014 - 6s(total: 275s)\n",
      "Epoch:65/100  iter:196/196  loss:0.10878  acc:0.8025  val_loss:1.75683  val_acc:0.8032 - 4s(total: 280s)\n",
      "Epoch:66/100  iter:196/196  loss:0.11576  acc:0.8043  val_loss:1.77419  val_acc:0.8049 - 7s(total: 288s)\n",
      "Epoch:67/100  iter:196/196  loss:0.10716  acc:0.8060  val_loss:1.85402  val_acc:0.8066 - 14s(total: 303s)\n",
      "Epoch:68/100  iter:196/196  loss:0.10957  acc:0.8076  val_loss:1.81575  val_acc:0.8083 - 12s(total: 315s)\n",
      "Epoch:69/100  iter:196/196  loss:0.10800  acc:0.8092  val_loss:1.91750  val_acc:0.8099 - 15s(total: 330s)\n",
      "Epoch:70/100  iter:196/196  loss:0.09158  acc:0.8109  val_loss:1.88227  val_acc:0.8115 - 15s(total: 345s)\n",
      "Epoch:71/100  iter:196/196  loss:0.08655  acc:0.8125  val_loss:1.99348  val_acc:0.8131 - 14s(total: 359s)\n",
      "Epoch:72/100  iter:196/196  loss:0.11173  acc:0.8140  val_loss:1.95875  val_acc:0.8146 - 13s(total: 372s)\n",
      "Epoch:73/100  iter:196/196  loss:0.08303  acc:0.8155  val_loss:1.99693  val_acc:0.8161 - 12s(total: 384s)\n",
      "Epoch:74/100  iter:196/196  loss:0.08589  acc:0.8170  val_loss:2.01587  val_acc:0.8176 - 14s(total: 398s)\n",
      "Epoch:75/100  iter:196/196  loss:0.09366  acc:0.8184  val_loss:2.07815  val_acc:0.8189 - 13s(total: 412s)\n",
      "Epoch:76/100  iter:196/196  loss:0.08307  acc:0.8198  val_loss:2.05232  val_acc:0.8204 - 14s(total: 426s)\n",
      "Epoch:77/100  iter:196/196  loss:0.08330  acc:0.8212  val_loss:2.11102  val_acc:0.8217 - 13s(total: 439s)\n",
      "Epoch:78/100  iter:196/196  loss:0.07057  acc:0.8226  val_loss:2.10175  val_acc:0.8231 - 12s(total: 451s)\n",
      "Epoch:79/100  iter:196/196  loss:0.06795  acc:0.8239  val_loss:2.15318  val_acc:0.8244 - 10s(total: 461s)\n",
      "Epoch:80/100  iter:196/196  loss:0.06179  acc:0.8253  val_loss:2.19327  val_acc:0.8258 - 4s(total: 465s)\n",
      "Epoch:81/100  iter:196/196  loss:0.07271  acc:0.8266  val_loss:2.23635  val_acc:0.8270 - 4s(total: 469s)\n",
      "Epoch:82/100  iter:196/196  loss:0.09546  acc:0.8278  val_loss:2.23389  val_acc:0.8282 - 4s(total: 473s)\n",
      "Epoch:83/100  iter:196/196  loss:0.05972  acc:0.8290  val_loss:2.33199  val_acc:0.8294 - 4s(total: 476s)\n",
      "Epoch:84/100  iter:196/196  loss:0.05777  acc:0.8302  val_loss:2.26298  val_acc:0.8306 - 4s(total: 480s)\n",
      "Epoch:85/100  iter:196/196  loss:0.07204  acc:0.8314  val_loss:2.28065  val_acc:0.8318 - 9s(total: 490s)\n",
      "Epoch:86/100  iter:196/196  loss:0.08114  acc:0.8325  val_loss:2.33604  val_acc:0.8329 - 14s(total: 504s)\n",
      "Epoch:87/100  iter:196/196  loss:0.06102  acc:0.8336  val_loss:2.32127  val_acc:0.8340 - 6s(total: 510s)\n",
      "Epoch:88/100  iter:196/196  loss:0.06709  acc:0.8347  val_loss:2.34566  val_acc:0.8351 - 5s(total: 515s)\n",
      "Epoch:89/100  iter:196/196  loss:0.07368  acc:0.8357  val_loss:2.35045  val_acc:0.8361 - 5s(total: 520s)\n",
      "Epoch:90/100  iter:196/196  loss:0.07914  acc:0.8367  val_loss:2.41966  val_acc:0.8371 - 5s(total: 525s)\n",
      "Epoch:91/100  iter:196/196  loss:0.05916  acc:0.8377  val_loss:2.39168  val_acc:0.8381 - 5s(total: 530s)\n",
      "Epoch:92/100  iter:196/196  loss:0.05791  acc:0.8388  val_loss:2.42925  val_acc:0.8391 - 5s(total: 534s)\n",
      "Epoch:93/100  iter:196/196  loss:0.05005  acc:0.8398  val_loss:2.49399  val_acc:0.8401 - 4s(total: 538s)\n",
      "Epoch:94/100  iter:196/196  loss:0.04641  acc:0.8408  val_loss:2.48457  val_acc:0.8411 - 5s(total: 543s)\n",
      "Epoch:95/100  iter:196/196  loss:0.03732  acc:0.8418  val_loss:2.51059  val_acc:0.8422 - 5s(total: 548s)\n",
      "Epoch:96/100  iter:196/196  loss:0.06771  acc:0.8428  val_loss:2.58008  val_acc:0.8431 - 5s(total: 553s)\n",
      "Epoch:97/100  iter:196/196  loss:0.10487  acc:0.8436  val_loss:2.60067  val_acc:0.8438 - 6s(total: 558s)\n",
      "Epoch:98/100  iter:196/196  loss:0.06437  acc:0.8444  val_loss:2.54695  val_acc:0.8447 - 5s(total: 563s)\n",
      "Epoch:99/100  iter:196/196  loss:0.03827  acc:0.8453  val_loss:2.57882  val_acc:0.8456 - 4s(total: 567s)\n",
      "Epoch:100/100  iter:196/196  loss:0.03052  acc:0.8462  val_loss:2.55966  val_acc:0.8466 - 4s(total: 571s)\n",
      "Wall time: 9min 30s\n"
     ]
    }
   ],
   "source": [
    "%%time\n",
    "train_params, val_params, loss_arr = train(model=model, optimizer=optimizer,\n",
    "                                           loss_fn=scce, acc_fn=sca,\n",
    "                                           epochs=100, train_data=trainloader,\n",
    "                                           validation_data=test_loader,\n",
    "                                           train_size=train_size,\n",
    "                                           train_batch_size=batch_size)"
   ]
  },
  {
   "cell_type": "code",
   "execution_count": null,
   "metadata": {
    "Collapsed": "false"
   },
   "outputs": [],
   "source": []
  }
 ],
 "metadata": {
  "kernelspec": {
   "display_name": "Python 3.7.1 64-bit ('tf2': conda)",
   "language": "python",
   "name": "python37164bittf2conda087c3d58f46c4b629d08798107e7912e"
  },
  "language_info": {
   "codemirror_mode": {
    "name": "ipython",
    "version": 3
   },
   "file_extension": ".py",
   "mimetype": "text/x-python",
   "name": "python",
   "nbconvert_exporter": "python",
   "pygments_lexer": "ipython3",
   "version": "3.7.6"
  },
  "toc": {
   "base_numbering": 1,
   "nav_menu": {
    "height": "125px",
    "width": "187px"
   },
   "number_sections": true,
   "sideBar": true,
   "skip_h1_title": false,
   "title_cell": "Table of Contents",
   "title_sidebar": "Contents",
   "toc_cell": false,
   "toc_position": {},
   "toc_section_display": true,
   "toc_window_display": false
  }
 },
 "nbformat": 4,
 "nbformat_minor": 4
}
