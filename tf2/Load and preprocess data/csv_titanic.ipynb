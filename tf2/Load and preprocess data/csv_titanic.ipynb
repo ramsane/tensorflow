{
 "cells": [
  {
   "cell_type": "code",
   "execution_count": 1,
   "metadata": {},
   "outputs": [],
   "source": [
    "import tensorflow as tf\n",
    "import functools\n",
    "import numpy as np\n",
    "import pandas as pd"
   ]
  },
  {
   "cell_type": "code",
   "execution_count": 2,
   "metadata": {},
   "outputs": [],
   "source": [
    "TRAIN_DATA_URL = \"https://storage.googleapis.com/tf-datasets/titanic/train.csv\"\n",
    "TEST_DATA_URL = \"https://storage.googleapis.com/tf-datasets/titanic/eval.csv\""
   ]
  },
  {
   "cell_type": "code",
   "execution_count": 3,
   "metadata": {},
   "outputs": [
    {
     "name": "stdout",
     "output_type": "stream",
     "text": [
      "C:\\Users\\AAIC\\.keras\\datasets\\train.csv C:\\Users\\AAIC\\.keras\\datasets\\test.csv\n"
     ]
    }
   ],
   "source": [
    "# It will download the dataset form the given url and return us the local file path\n",
    "# we can directly assign it a path if it is already present\n",
    "train_file_path = tf.keras.utils.get_file(fname=\"train.csv\", origin=TRAIN_DATA_URL)\n",
    "test_file_path = tf.keras.utils.get_file(fname=\"test.csv\", origin=TEST_DATA_URL)\n",
    "print(train_file_path, test_file_path)"
   ]
  },
  {
   "cell_type": "code",
   "execution_count": 4,
   "metadata": {},
   "outputs": [],
   "source": [
    "# make numpy values easy to read\n",
    "np.set_printoptions(precision=3, suppress=True)"
   ]
  },
  {
   "cell_type": "markdown",
   "metadata": {},
   "source": [
    "### load the data with tf.data "
   ]
  },
  {
   "cell_type": "markdown",
   "metadata": {},
   "source": [
    "- define the label column and the list of possible values in csv for that label column"
   ]
  },
  {
   "cell_type": "code",
   "execution_count": 5,
   "metadata": {},
   "outputs": [],
   "source": [
    "LABEL_COLUMN = 'survived'\n",
    "LABELS = [0, 1]"
   ]
  },
  {
   "cell_type": "markdown",
   "metadata": {},
   "source": [
    "- We will generate the dataset from csv using make_csv_dataset\n",
    "    - `file_patterns`: can be list of file_paths or pattern of those filepaths.\n",
    "    - `label_name`: specifies the column (Y) in the csv.\n",
    "    - `na_value`: value in csv that is represented as csv file\n",
    "    - `num_epochs`: The number of times the dataset is repeated while iterating\n",
    "        through dataset\n",
    "    - `ignore_errors`: to ignore any errors while parsing the data.\n",
    "    \n",
    "   \n",
    "- Returns: of type `PrefetchDataset`"
   ]
  },
  {
   "cell_type": "code",
   "execution_count": 6,
   "metadata": {},
   "outputs": [],
   "source": [
    "def get_dataset(file_path, **kwargs):\n",
    "    return tf.data.experimental.make_csv_dataset(\n",
    "        file_pattern=file_path,\n",
    "        batch_size=4,\n",
    "        label_name=LABEL_COLUMN,\n",
    "        na_value='?',\n",
    "        num_epochs=1,\n",
    "        ignore_errors=True,\n",
    "        **kwargs\n",
    "    )"
   ]
  },
  {
   "cell_type": "code",
   "execution_count": 7,
   "metadata": {},
   "outputs": [
    {
     "name": "stdout",
     "output_type": "stream",
     "text": [
      "WARNING:tensorflow:From D:\\programs\\Anaconda3\\envs\\tf2\\lib\\site-packages\\tensorflow_core\\python\\data\\experimental\\ops\\readers.py:521: parallel_interleave (from tensorflow.python.data.experimental.ops.interleave_ops) is deprecated and will be removed in a future version.\n",
      "Instructions for updating:\n",
      "Use `tf.data.Dataset.interleave(map_func, cycle_length, block_length, num_parallel_calls=tf.data.experimental.AUTOTUNE)` instead. If sloppy execution is desired, use `tf.data.Options.experimental_determinstic`.\n"
     ]
    },
    {
     "data": {
      "text/plain": [
       "(tensorflow.python.data.ops.dataset_ops.PrefetchDataset,\n",
       " tensorflow.python.data.ops.dataset_ops.PrefetchDataset)"
      ]
     },
     "execution_count": 7,
     "metadata": {},
     "output_type": "execute_result"
    }
   ],
   "source": [
    "raw_train_data = get_dataset(train_file_path)\n",
    "raw_test_data = get_dataset(test_file_path, shuffle=False)\n",
    "\n",
    "type(raw_train_data), type(raw_test_data)"
   ]
  },
  {
   "cell_type": "markdown",
   "metadata": {},
   "source": [
    "- these two datasets, will return batch in OrderedDict format. Where, key is the `columnname(feature)` and it's value is a list of values of respective column of size `batchsize`, which is _4_ as we've specified while making the dataset in the above function\n",
    "- `take` is like taking how many points we want to iterate through. It is better than writing a break after first loop"
   ]
  },
  {
   "cell_type": "code",
   "execution_count": 8,
   "metadata": {},
   "outputs": [],
   "source": [
    "def show_batch(dataset):\n",
    "    for batch, labels in dataset.take(1):\n",
    "        print(\"{:20s}: {}\\n\".format('labels', labels.numpy()))\n",
    "        for feature, values in batch.items():\n",
    "            print(\"{:20s}: {}\".format(feature, values.numpy()))"
   ]
  },
  {
   "cell_type": "code",
   "execution_count": 9,
   "metadata": {},
   "outputs": [
    {
     "name": "stdout",
     "output_type": "stream",
     "text": [
      "labels              : [0 0 0 0]\n",
      "\n",
      "sex                 : [b'male' b'male' b'male' b'female']\n",
      "age                 : [51. 26. 23. 18.]\n",
      "n_siblings_spouses  : [0 0 0 1]\n",
      "parch               : [0 0 0 0]\n",
      "fare                : [12.525  7.775 13.    17.8  ]\n",
      "class               : [b'Second' b'Third' b'Second' b'Third']\n",
      "deck                : [b'unknown' b'unknown' b'unknown' b'unknown']\n",
      "embark_town         : [b'Southampton' b'Southampton' b'Southampton' b'Southampton']\n",
      "alone               : [b'y' b'y' b'y' b'n']\n"
     ]
    }
   ],
   "source": [
    "show_batch(raw_train_data)"
   ]
  },
  {
   "cell_type": "markdown",
   "metadata": {},
   "source": [
    "# Data preprocessing"
   ]
  },
  {
   "cell_type": "markdown",
   "metadata": {},
   "source": [
    "- As our dataset has both numeric and categorical columns. We will write a pipeline which does the preprocessing of numerical columns (like normalization) and categorical columns (like one hot encoding) as part of the keras model. \n",
    "- This helps when shipping the model. ie., we can give raw data point without any pre processing and can predict the label.\n",
    "\n",
    "\n",
    "- We will do this in two stages. First, we will combine all the numerical columns into one column `numeric`. It will be a matrix of stacked features and we will normalize them with `train_mean` and `train_std` of those numerical features \n",
    "- Next, we will deal with categorical features one by one"
   ]
  },
  {
   "cell_type": "markdown",
   "metadata": {},
   "source": [
    "## Numeric Features"
   ]
  },
  {
   "cell_type": "code",
   "execution_count": 10,
   "metadata": {},
   "outputs": [],
   "source": [
    "NUMERIC_FEATURES = ['age','n_siblings_spouses','parch', 'fare']"
   ]
  },
  {
   "cell_type": "markdown",
   "metadata": {},
   "source": [
    "- First, we will write a class to pack numerical features"
   ]
  },
  {
   "cell_type": "code",
   "execution_count": 11,
   "metadata": {},
   "outputs": [],
   "source": [
    "class PackNumericFeatures(object):\n",
    "    \"\"\"Given an batch(orderedDict) and list of numeric columns, stack them up\"\"\"\n",
    "    def __init__(self, names):\n",
    "        # names of the numeric columns\n",
    "        self.names = names\n",
    "    \n",
    "    def __call__(self, features, labels):\n",
    "        \"\"\"this function can be called with classname with features and labels. \n",
    "        Can be useful while calling for a batch while training\"\"\"\n",
    "        \n",
    "        # get the list of list of values for each feature one by one.\n",
    "        # After this features (orderedDict) left with categorical features\n",
    "        # and `numeric` key that has stacked features of all the numeric features\n",
    "        numeric_features = [features.pop(name) for name in self.names]\n",
    "        \n",
    "        # convert each numeric calumn to float32.\n",
    "        numeric_features = [tf.cast(feat, tf.float32) for feat in numeric_features]\n",
    "        \n",
    "        # stack them (list of arrays) column wise\n",
    "        numeric_features = tf.stack(values=numeric_features, axis=-1)\n",
    "        \n",
    "        # add this `numeric` to the features orderdDict\n",
    "        features['numeric'] = numeric_features\n",
    "        \n",
    "        return features, labels"
   ]
  },
  {
   "cell_type": "markdown",
   "metadata": {},
   "source": [
    "- This can be explained using a sample dataset that has only numeric columns"
   ]
  },
  {
   "cell_type": "code",
   "execution_count": 12,
   "metadata": {},
   "outputs": [],
   "source": [
    "SELECT_COLUMNS = ['survived', 'age', 'n_siblings_spouses', 'parch', 'fare']\n",
    "DEFAULTS = [0, 0.0, 0.0, 0.0, 0.0]"
   ]
  },
  {
   "cell_type": "code",
   "execution_count": 13,
   "metadata": {},
   "outputs": [
    {
     "name": "stdout",
     "output_type": "stream",
     "text": [
      "labels              : [0 0 1 1]\n",
      "\n",
      "age                 : [22. 35. 24. 50.]\n",
      "n_siblings_spouses  : [0. 0. 0. 2.]\n",
      "parch               : [0. 0. 3. 0.]\n",
      "fare                : [  7.796  10.5    19.258 133.65 ]\n"
     ]
    }
   ],
   "source": [
    "temp_dataset = get_dataset(train_file_path,\n",
    "                           select_columns=SELECT_COLUMNS,  # select only few columns\n",
    "                           column_defaults = DEFAULTS)\n",
    "\n",
    "show_batch(temp_dataset)"
   ]
  },
  {
   "cell_type": "code",
   "execution_count": 14,
   "metadata": {},
   "outputs": [],
   "source": [
    "example_batch, labels_batch = next(iter(temp_dataset))"
   ]
  },
  {
   "cell_type": "code",
   "execution_count": 15,
   "metadata": {},
   "outputs": [
    {
     "data": {
      "text/plain": [
       "(['age', 'n_siblings_spouses', 'parch', 'fare'], array([0, 1, 0, 0]))"
      ]
     },
     "execution_count": 15,
     "metadata": {},
     "output_type": "execute_result"
    }
   ],
   "source": [
    "list(example_batch.keys()), labels_batch.numpy()"
   ]
  },
  {
   "cell_type": "code",
   "execution_count": 16,
   "metadata": {},
   "outputs": [
    {
     "name": "stdout",
     "output_type": "stream",
     "text": [
      "age                 : [28. 40. 28. 32.]\n",
      "n_siblings_spouses  : [0. 1. 8. 0.]\n",
      "parch               : [0. 1. 2. 0.]\n",
      "fare                : [  7.896 134.5    69.55   10.5  ]\n"
     ]
    }
   ],
   "source": [
    "for feat, values in example_batch.items():\n",
    "    print(\"{:20s}: {}\".format(feat, values.numpy()))"
   ]
  },
  {
   "cell_type": "code",
   "execution_count": 17,
   "metadata": {},
   "outputs": [],
   "source": [
    "example_batch, labels_batch = PackNumericFeatures(NUMERIC_FEATURES)(example_batch, labels_batch)"
   ]
  },
  {
   "cell_type": "code",
   "execution_count": 18,
   "metadata": {},
   "outputs": [
    {
     "data": {
      "text/plain": [
       "(odict_keys(['numeric']), array([0, 1, 0, 0]))"
      ]
     },
     "execution_count": 18,
     "metadata": {},
     "output_type": "execute_result"
    }
   ],
   "source": [
    "example_batch.keys(), labels_batch.numpy()"
   ]
  },
  {
   "cell_type": "code",
   "execution_count": 19,
   "metadata": {},
   "outputs": [
    {
     "data": {
      "text/plain": [
       "array([[ 28.   ,   0.   ,   0.   ,   7.896],\n",
       "       [ 40.   ,   1.   ,   1.   , 134.5  ],\n",
       "       [ 28.   ,   8.   ,   2.   ,  69.55 ],\n",
       "       [ 32.   ,   0.   ,   0.   ,  10.5  ]], dtype=float32)"
      ]
     },
     "execution_count": 19,
     "metadata": {},
     "output_type": "execute_result"
    }
   ],
   "source": [
    "example_batch['numeric'].numpy()"
   ]
  },
  {
   "cell_type": "markdown",
   "metadata": {},
   "source": [
    "- we can clearly see that the class is working as expected. And you can verify with the above batch of datapoints"
   ]
  },
  {
   "cell_type": "markdown",
   "metadata": {},
   "source": [
    "- Now we can apply this to whole train and test data using map. \n",
    "- `map` allows us to call the packednumericfeatures function for all the batches"
   ]
  },
  {
   "cell_type": "code",
   "execution_count": 20,
   "metadata": {},
   "outputs": [
    {
     "name": "stdout",
     "output_type": "stream",
     "text": [
      "['sex', 'age', 'n_siblings_spouses', 'parch', 'fare', 'class', 'deck', 'embark_town', 'alone'] [1 0 0 1]\n"
     ]
    }
   ],
   "source": [
    "# columns before calling the dataset\n",
    "tmp_batch, tmp_labels = next(iter(raw_train_data))\n",
    "print(list(tmp_batch.keys()), tmp_labels.numpy())"
   ]
  },
  {
   "cell_type": "code",
   "execution_count": 21,
   "metadata": {},
   "outputs": [],
   "source": [
    "packed_train_data = raw_train_data.map(PackNumericFeatures(NUMERIC_FEATURES))\n",
    "packed_test_data = raw_test_data.map(PackNumericFeatures(NUMERIC_FEATURES))"
   ]
  },
  {
   "cell_type": "markdown",
   "metadata": {},
   "source": [
    "- we can check the columns after it is done"
   ]
  },
  {
   "cell_type": "code",
   "execution_count": 22,
   "metadata": {},
   "outputs": [
    {
     "name": "stdout",
     "output_type": "stream",
     "text": [
      "['sex', 'class', 'deck', 'embark_town', 'alone', 'numeric'] [0 1 1 0]\n"
     ]
    }
   ],
   "source": [
    "tmp_packed_batch, tmp_packed_labels = next(iter(packed_train_data))\n",
    "print(list(tmp_packed_batch.keys()), tmp_packed_labels.numpy())"
   ]
  },
  {
   "cell_type": "markdown",
   "metadata": {},
   "source": [
    "- Notice that extra `numeric` column without any other numeric columns"
   ]
  },
  {
   "cell_type": "markdown",
   "metadata": {},
   "source": [
    "- This can be verified by looking at a batch of data points from the packed train data"
   ]
  },
  {
   "cell_type": "code",
   "execution_count": 23,
   "metadata": {},
   "outputs": [
    {
     "name": "stdout",
     "output_type": "stream",
     "text": [
      "labels              : [0 0 1 1]\n",
      "\n",
      "sex                 : [b'male' b'male' b'female' b'female']\n",
      "class               : [b'Third' b'First' b'First' b'Second']\n",
      "deck                : [b'unknown' b'E' b'C' b'unknown']\n",
      "embark_town         : [b'Southampton' b'Southampton' b'Southampton' b'Southampton']\n",
      "alone               : [b'y' b'y' b'y' b'y']\n",
      "numeric             : [[35.     0.     0.     8.05 ]\n",
      " [54.     0.     0.    51.862]\n",
      " [58.     0.     0.    26.55 ]\n",
      " [55.     0.     0.    16.   ]]\n"
     ]
    }
   ],
   "source": [
    "show_batch(packed_test_data)"
   ]
  },
  {
   "cell_type": "markdown",
   "metadata": {},
   "source": [
    "- This packed_train_data and packed_test_data are the datasets that we will use for training"
   ]
  },
  {
   "cell_type": "markdown",
   "metadata": {},
   "source": [
    "### Normalizing continuous varaiables"
   ]
  },
  {
   "cell_type": "code",
   "execution_count": 24,
   "metadata": {},
   "outputs": [
    {
     "data": {
      "text/html": [
       "<div>\n",
       "<style scoped>\n",
       "    .dataframe tbody tr th:only-of-type {\n",
       "        vertical-align: middle;\n",
       "    }\n",
       "\n",
       "    .dataframe tbody tr th {\n",
       "        vertical-align: top;\n",
       "    }\n",
       "\n",
       "    .dataframe thead th {\n",
       "        text-align: right;\n",
       "    }\n",
       "</style>\n",
       "<table border=\"1\" class=\"dataframe\">\n",
       "  <thead>\n",
       "    <tr style=\"text-align: right;\">\n",
       "      <th></th>\n",
       "      <th>age</th>\n",
       "      <th>n_siblings_spouses</th>\n",
       "      <th>parch</th>\n",
       "      <th>fare</th>\n",
       "    </tr>\n",
       "  </thead>\n",
       "  <tbody>\n",
       "    <tr>\n",
       "      <th>count</th>\n",
       "      <td>627.000000</td>\n",
       "      <td>627.000000</td>\n",
       "      <td>627.000000</td>\n",
       "      <td>627.000000</td>\n",
       "    </tr>\n",
       "    <tr>\n",
       "      <th>mean</th>\n",
       "      <td>29.631308</td>\n",
       "      <td>0.545455</td>\n",
       "      <td>0.379585</td>\n",
       "      <td>34.385399</td>\n",
       "    </tr>\n",
       "    <tr>\n",
       "      <th>std</th>\n",
       "      <td>12.511818</td>\n",
       "      <td>1.151090</td>\n",
       "      <td>0.792999</td>\n",
       "      <td>54.597730</td>\n",
       "    </tr>\n",
       "    <tr>\n",
       "      <th>min</th>\n",
       "      <td>0.750000</td>\n",
       "      <td>0.000000</td>\n",
       "      <td>0.000000</td>\n",
       "      <td>0.000000</td>\n",
       "    </tr>\n",
       "    <tr>\n",
       "      <th>25%</th>\n",
       "      <td>23.000000</td>\n",
       "      <td>0.000000</td>\n",
       "      <td>0.000000</td>\n",
       "      <td>7.895800</td>\n",
       "    </tr>\n",
       "    <tr>\n",
       "      <th>50%</th>\n",
       "      <td>28.000000</td>\n",
       "      <td>0.000000</td>\n",
       "      <td>0.000000</td>\n",
       "      <td>15.045800</td>\n",
       "    </tr>\n",
       "    <tr>\n",
       "      <th>75%</th>\n",
       "      <td>35.000000</td>\n",
       "      <td>1.000000</td>\n",
       "      <td>0.000000</td>\n",
       "      <td>31.387500</td>\n",
       "    </tr>\n",
       "    <tr>\n",
       "      <th>max</th>\n",
       "      <td>80.000000</td>\n",
       "      <td>8.000000</td>\n",
       "      <td>5.000000</td>\n",
       "      <td>512.329200</td>\n",
       "    </tr>\n",
       "  </tbody>\n",
       "</table>\n",
       "</div>"
      ],
      "text/plain": [
       "              age  n_siblings_spouses       parch        fare\n",
       "count  627.000000          627.000000  627.000000  627.000000\n",
       "mean    29.631308            0.545455    0.379585   34.385399\n",
       "std     12.511818            1.151090    0.792999   54.597730\n",
       "min      0.750000            0.000000    0.000000    0.000000\n",
       "25%     23.000000            0.000000    0.000000    7.895800\n",
       "50%     28.000000            0.000000    0.000000   15.045800\n",
       "75%     35.000000            1.000000    0.000000   31.387500\n",
       "max     80.000000            8.000000    5.000000  512.329200"
      ]
     },
     "execution_count": 24,
     "metadata": {},
     "output_type": "execute_result"
    }
   ],
   "source": [
    "import pandas as pd\n",
    "desc = pd.read_csv(train_file_path)[NUMERIC_FEATURES].describe()\n",
    "desc"
   ]
  },
  {
   "cell_type": "code",
   "execution_count": 25,
   "metadata": {},
   "outputs": [
    {
     "data": {
      "text/plain": [
       "(array([29.631,  0.545,  0.38 , 34.385]),\n",
       " array([12.512,  1.151,  0.793, 54.598]))"
      ]
     },
     "execution_count": 25,
     "metadata": {},
     "output_type": "execute_result"
    }
   ],
   "source": [
    "## get the mean and standard deviation of those numeric features\n",
    "MEAN = desc.loc['mean'].values\n",
    "STD = desc.loc['std'].values\n",
    "MEAN, STD"
   ]
  },
  {
   "cell_type": "markdown",
   "metadata": {},
   "source": [
    "- We will achieve this using partial function which will be used as normalizer_function.\n",
    "- This will receive the batch_data while training and it should return the normalized one.\n",
    "- Note that we will use only train mean and standard deviation to normalize both while training and evaluation mode"
   ]
  },
  {
   "cell_type": "code",
   "execution_count": 26,
   "metadata": {},
   "outputs": [],
   "source": [
    "# generic function to normalize the data\n",
    "def normalize_numeric_data(data, mean, std):\n",
    "  # Center the data\n",
    "  return (data-mean)/std"
   ]
  },
  {
   "cell_type": "code",
   "execution_count": 27,
   "metadata": {},
   "outputs": [],
   "source": [
    "normalizer = functools.partial(normalize_numeric_data, mean=MEAN, std=STD)\n",
    "# we can call the normalizer with data as the only argument and \n",
    "# mean and std need not be passed"
   ]
  },
  {
   "cell_type": "code",
   "execution_count": 28,
   "metadata": {},
   "outputs": [
    {
     "ename": "TypeError",
     "evalue": "normalize_numeric_data() missing 1 required positional argument: 'data'",
     "output_type": "error",
     "traceback": [
      "\u001b[1;31m---------------------------------------------------------------------------\u001b[0m",
      "\u001b[1;31mTypeError\u001b[0m                                 Traceback (most recent call last)",
      "\u001b[1;32m<ipython-input-28-7bce3724cbb0>\u001b[0m in \u001b[0;36m<module>\u001b[1;34m\u001b[0m\n\u001b[0;32m      1\u001b[0m \u001b[1;31m# notice that it is not asking for mean and std as they are already provided\u001b[0m\u001b[1;33m\u001b[0m\u001b[1;33m\u001b[0m\u001b[1;33m\u001b[0m\u001b[0m\n\u001b[1;32m----> 2\u001b[1;33m \u001b[0mnormalizer\u001b[0m\u001b[1;33m(\u001b[0m\u001b[1;33m)\u001b[0m\u001b[1;33m\u001b[0m\u001b[1;33m\u001b[0m\u001b[0m\n\u001b[0m",
      "\u001b[1;31mTypeError\u001b[0m: normalize_numeric_data() missing 1 required positional argument: 'data'"
     ]
    }
   ],
   "source": [
    "# notice that it is not asking for mean and std as they are already provided\n",
    "normalizer()"
   ]
  },
  {
   "cell_type": "markdown",
   "metadata": {},
   "source": [
    "- Create a numeric_column which can be used in Keras model as a pre processing layer"
   ]
  },
  {
   "cell_type": "code",
   "execution_count": 29,
   "metadata": {},
   "outputs": [
    {
     "data": {
      "text/plain": [
       "[NumericColumn(key='numeric', shape=(4,), default_value=None, dtype=tf.float32, normalizer_fn=functools.partial(<function normalize_numeric_data at 0x0000022F25CF5158>, mean=array([29.631,  0.545,  0.38 , 34.385]), std=array([12.512,  1.151,  0.793, 54.598])))]"
      ]
     },
     "execution_count": 29,
     "metadata": {},
     "output_type": "execute_result"
    }
   ],
   "source": [
    "numeric_column = tf.feature_column.numeric_column(\n",
    "    key='numeric', shape=[len(NUMERIC_FEATURES)],\n",
    "    dtype=tf.float32,normalizer_fn=normalizer\n",
    ")\n",
    "\n",
    "# storing thise numerical columns in a list.\n",
    "numeric_columns = [numeric_column]\n",
    "numeric_columns"
   ]
  },
  {
   "cell_type": "code",
   "execution_count": 30,
   "metadata": {},
   "outputs": [
    {
     "data": {
      "text/plain": [
       "array([[ 0.269, -0.474, -0.479, -0.538],\n",
       "       [ 0.189, -0.474, -0.479, -0.486],\n",
       "       [ 0.509,  0.395,  2.043,  1.568],\n",
       "       [ 0.429, -0.474, -0.479, -0.499]], dtype=float32)"
      ]
     },
     "execution_count": 30,
     "metadata": {},
     "output_type": "execute_result"
    }
   ],
   "source": [
    "numeric_layer = tf.keras.layers.DenseFeatures(feature_columns=numeric_columns)\n",
    "numeric_layer(tmp_packed_batch).numpy()"
   ]
  },
  {
   "cell_type": "markdown",
   "metadata": {},
   "source": [
    "- the above values are normalized values of `numeric` column over the dataset"
   ]
  },
  {
   "cell_type": "markdown",
   "metadata": {},
   "source": [
    "## Categorical data"
   ]
  },
  {
   "cell_type": "code",
   "execution_count": 31,
   "metadata": {},
   "outputs": [],
   "source": [
    "# these are just feature and vocabulary pairs.\n",
    "# Used to construct the indicator columns very easily\n",
    "CATEGORIES = {\n",
    "    'sex': ['male', 'female'],\n",
    "    'class' : ['First', 'Second', 'Third'],\n",
    "    'deck' : ['A', 'B', 'C', 'D', 'E', 'F', 'G', 'H', 'I', 'J'],\n",
    "    'embark_town' : ['Cherbourg', 'Southhampton', 'Queenstown'],\n",
    "    'alone' : ['y', 'n']\n",
    "}"
   ]
  },
  {
   "cell_type": "markdown",
   "metadata": {},
   "source": [
    "- we will create categorical_column with tensorflow feature_column"
   ]
  },
  {
   "cell_type": "code",
   "execution_count": 32,
   "metadata": {},
   "outputs": [
    {
     "name": "stdout",
     "output_type": "stream",
     "text": [
      "VocabularyListCategoricalColumn(key='sex', vocabulary_list=('male', 'female'), dtype=tf.string, default_value=-1, num_oov_buckets=0)\n",
      "------------------------------\n",
      "VocabularyListCategoricalColumn(key='class', vocabulary_list=('First', 'Second', 'Third'), dtype=tf.string, default_value=-1, num_oov_buckets=0)\n",
      "------------------------------\n",
      "VocabularyListCategoricalColumn(key='deck', vocabulary_list=('A', 'B', 'C', 'D', 'E', 'F', 'G', 'H', 'I', 'J'), dtype=tf.string, default_value=-1, num_oov_buckets=0)\n",
      "------------------------------\n",
      "VocabularyListCategoricalColumn(key='embark_town', vocabulary_list=('Cherbourg', 'Southhampton', 'Queenstown'), dtype=tf.string, default_value=-1, num_oov_buckets=0)\n",
      "------------------------------\n",
      "VocabularyListCategoricalColumn(key='alone', vocabulary_list=('y', 'n'), dtype=tf.string, default_value=-1, num_oov_buckets=0)\n",
      "------------------------------\n"
     ]
    }
   ],
   "source": [
    "categorical_columns = []\n",
    "\n",
    "for feature, vocab in CATEGORIES.items():\n",
    "    cat_col = tf.feature_column.categorical_column_with_vocabulary_list(key=feature,\n",
    "                                                                       vocabulary_list=vocab)\n",
    "    print(cat_col)\n",
    "    print('-'*30)\n",
    "    categorical_columns.append(tf.feature_column.indicator_column(cat_col))\n"
   ]
  },
  {
   "cell_type": "code",
   "execution_count": 33,
   "metadata": {},
   "outputs": [
    {
     "name": "stdout",
     "output_type": "stream",
     "text": [
      "WARNING:tensorflow:From D:\\programs\\Anaconda3\\envs\\tf2\\lib\\site-packages\\tensorflow_core\\python\\feature_column\\feature_column_v2.py:4276: IndicatorColumn._variable_shape (from tensorflow.python.feature_column.feature_column_v2) is deprecated and will be removed in a future version.\n",
      "Instructions for updating:\n",
      "The old _FeatureColumn APIs are being deprecated. Please use the new FeatureColumn APIs instead.\n",
      "WARNING:tensorflow:From D:\\programs\\Anaconda3\\envs\\tf2\\lib\\site-packages\\tensorflow_core\\python\\feature_column\\feature_column_v2.py:4331: VocabularyListCategoricalColumn._num_buckets (from tensorflow.python.feature_column.feature_column_v2) is deprecated and will be removed in a future version.\n",
      "Instructions for updating:\n",
      "The old _FeatureColumn APIs are being deprecated. Please use the new FeatureColumn APIs instead.\n",
      "[[1. 0. 1. 0. 0. 0. 1. 0. 0. 0. 0. 0. 0. 0. 0. 0. 0. 0. 1. 0.]\n",
      " [1. 0. 0. 0. 1. 0. 0. 0. 0. 0. 0. 0. 0. 0. 0. 0. 0. 0. 1. 0.]\n",
      " [0. 1. 1. 0. 0. 0. 1. 0. 0. 0. 0. 0. 0. 0. 0. 0. 0. 0. 1. 0.]\n",
      " [1. 0. 0. 0. 1. 0. 0. 0. 0. 0. 0. 0. 0. 0. 0. 0. 0. 0. 1. 0.]]\n"
     ]
    }
   ],
   "source": [
    "# categorical layer(s) with keras.layers\n",
    "categorical_layer = tf.keras.layers.DenseFeatures(categorical_columns)\n",
    "print(categorical_layer(tmp_packed_batch).numpy())"
   ]
  },
  {
   "cell_type": "markdown",
   "metadata": {},
   "source": [
    "- note that, we won't be using this saperately. We will combine all the numerical columns and categorical columns(indicator column) as a single pre processing layer"
   ]
  },
  {
   "cell_type": "code",
   "execution_count": 34,
   "metadata": {},
   "outputs": [],
   "source": [
    "preprocessing_layer = tf.keras.layers.DenseFeatures(categorical_columns+numeric_columns)"
   ]
  },
  {
   "cell_type": "markdown",
   "metadata": {},
   "source": [
    " "
   ]
  },
  {
   "cell_type": "markdown",
   "metadata": {},
   "source": [
    "### Build a model that includes all the pre processing steps"
   ]
  },
  {
   "cell_type": "code",
   "execution_count": 40,
   "metadata": {},
   "outputs": [],
   "source": [
    "class NWPPLayer(tf.keras.Model):\n",
    "    def __init__(self):\n",
    "        super(NWPPLayer, self).__init__()\n",
    "        # preprocessing layer\n",
    "        self.preprocessinglayer = tf.keras.layers.DenseFeatures(categorical_columns+numeric_columns)\n",
    "        self.layer1 = tf.keras.layers.Dense(units=128, activation='relu')\n",
    "        self.layer2 = tf.keras.layers.Dense(units=128, activation='relu')\n",
    "        self.outputlayer = tf.keras.layers.Dense(units=1, activation='sigmoid')\n",
    "    \n",
    "    @tf.function\n",
    "    def call(self, x, training=False, **kwargs):\n",
    "        \"\"\"`x` is a ordered dictionary for each batch of input data\"\"\"\n",
    "        x = self.preprocessinglayer(x)\n",
    "        # print(x.shape)  # (batch_size, 24) --> 24 including one-hot encoded vectors \n",
    "        x=self.layer2(self.layer1(x))\n",
    "        return self.outputlayer(x)\n",
    "    \n",
    "    def evaluate(self, data, loss_fn):\n",
    "        out, labels = [], []\n",
    "        for batch, batch_labels in data:\n",
    "            out.append(self.call(batch))\n",
    "            labels.append(batch_labels)\n",
    "\n",
    "        y_pred, y_true = tf.concat(out, 0), tf.concat(labels, 0)\n",
    "        acc = tf.metrics.BinaryAccuracy()(y_true=y_true, y_pred=y_pred).numpy()\n",
    "        loss = loss_fn(y_true=y_true, y_pred=y_pred).numpy()\n",
    "        return acc*100, loss\n",
    "    \n",
    "    @tf.function\n",
    "    def train_step(self, data, labels, loss_fn):\n",
    "        # record all the computations with gradient tape\n",
    "        with tf.GradientTape() as tape:\n",
    "            # forward pass\n",
    "            outputs = self.call(data)\n",
    "            loss = loss_fn(y_true=labels, y_pred=outputs)\n",
    "\n",
    "        # backward pass\n",
    "        # find the gradients w.r.t loss\n",
    "        gradients = tape.gradient(loss, model.trainable_variables)\n",
    "        # grads_and_vars: List of (gradient, variable) pairs.\n",
    "        optimizer.apply_gradients(grads_and_vars=zip(gradients, model.trainable_variables))\n",
    "\n",
    "        return loss"
   ]
  },
  {
   "cell_type": "markdown",
   "metadata": {},
   "source": [
    " "
   ]
  },
  {
   "cell_type": "markdown",
   "metadata": {},
   "source": [
    " "
   ]
  },
  {
   "cell_type": "code",
   "execution_count": 41,
   "metadata": {},
   "outputs": [],
   "source": [
    "import math"
   ]
  },
  {
   "cell_type": "code",
   "execution_count": 42,
   "metadata": {},
   "outputs": [
    {
     "data": {
      "text/plain": [
       "(627, 4)"
      ]
     },
     "execution_count": 42,
     "metadata": {},
     "output_type": "execute_result"
    }
   ],
   "source": [
    "def get_data_size_and_batch_size(data):\n",
    "    \"\"\"\n",
    "    Gives you the datasize and batch_size for the dataset\n",
    "    \"\"\"\n",
    "    size, batch_size = 0, 0\n",
    "    \n",
    "    batch, labels = next(iter(data))\n",
    "    batch_size = labels.shape[0]\n",
    "    \n",
    "    for batch, labels in data:\n",
    "        size+=labels.shape[0]\n",
    "        \n",
    "    return size, batch_size\n",
    "\n",
    "get_data_size_and_batch_size(packed_train_data)"
   ]
  },
  {
   "cell_type": "code",
   "execution_count": 43,
   "metadata": {},
   "outputs": [],
   "source": [
    "def train(model, optimizer, loss_fn, train_data, validation_data, epochs=1, validate_epoch=3):\n",
    "    \"\"\"\n",
    "    Train the model with the parameters given and returns the history\n",
    "    \"\"\"\n",
    "    train_params = {'loss':[], 'accuracy': [], 'epoch':[]}\n",
    "    val_params = {'loss':[], 'accuracy': [], 'epoch':[]}\n",
    "    loss_arr = []  # this is for every iteration\n",
    "    \n",
    "    # getting size and batch_size of train\n",
    "    train_size, train_batch_size = get_data_size_and_batch_size(train_data)\n",
    "    iters = math.ceil(train_size/train_batch_size)\n",
    "    \n",
    "    for epoch in range(1, epochs+1):\n",
    "        print()\n",
    "        for i, data in enumerate(train_data):\n",
    "            batch, labels = data            \n",
    "            loss = model.train_step(batch, labels, loss_fn)\n",
    "            \n",
    "            # save the loss for this batch\n",
    "            loss_arr.append(loss.numpy())\n",
    "            print(f'Epoch: {epoch}\\t iter:{i+1}/{iters}\\t loss:{loss_arr[-1]}', end='\\r')\n",
    "        \n",
    "        if epoch%validate_epoch == 0:\n",
    "            print('\\nEvaluating the model for train and validation data...', end='\\r')\n",
    "            # calculate the train and validation accuracy and loss\n",
    "            train_acc, train_loss = model.evaluate(train_data, loss_fn)\n",
    "            train_params['loss'].append(train_loss)\n",
    "            train_params['accuracy'].append(train_acc)\n",
    "            train_params['epoch'].append(epoch+1)\n",
    "\n",
    "            val_acc, val_loss = model.evaluate(validation_data, loss_fn)\n",
    "            val_params['loss'].append(val_loss)\n",
    "            val_params['accuracy'].append(val_acc)\n",
    "            val_params['epoch'].append(epoch+1)\n",
    "\n",
    "            template = 'Epoch: {} - Train (Loss: {}, acc: {}) - Val (Loss: {}, acc: {})'\n",
    "            print(template.format(epoch,\n",
    "                                  train_loss, train_acc,\n",
    "                                  val_loss, val_acc),\n",
    "                  end='\\n')\n",
    "    \n",
    "    # return after the training is over\n",
    "    print()\n",
    "    return train_params, val_params, loss_arr"
   ]
  },
  {
   "cell_type": "code",
   "execution_count": 44,
   "metadata": {},
   "outputs": [
    {
     "name": "stdout",
     "output_type": "stream",
     "text": [
      "\n",
      "Epoch: 1\t iter:157/157\t loss:0.22614066302776337\n",
      "Epoch: 2\t iter:157/157\t loss:0.34167322516441345\n",
      "Epoch: 3\t iter:157/157\t loss:0.60039275884628336\n",
      "Epoch: 3 - Train (Loss: 0.36536455154418945, acc: 84.84848737716675) - Val (Loss: 0.43980979919433594, acc: 81.0606062412262)\n",
      "\n",
      "Epoch: 4\t iter:157/157\t loss:0.14283613860607147\n",
      "Epoch: 5\t iter:157/157\t loss:0.54652947187423713\n",
      "Epoch: 6\t iter:157/157\t loss:0.20585899055004127\n",
      "Epoch: 6 - Train (Loss: 0.3488459885120392, acc: 85.16746163368225) - Val (Loss: 0.4152870178222656, acc: 82.95454382896423)\n",
      "\n",
      "Epoch: 7\t iter:157/157\t loss:0.48850286006927493\n",
      "Epoch: 8\t iter:157/157\t loss:0.360177636146545475\n",
      "Epoch: 9\t iter:157/157\t loss:0.067801572382450155\n",
      "Epoch: 9 - Train (Loss: 0.3325525224208832, acc: 85.16746163368225) - Val (Loss: 0.46765008568763733, acc: 80.68181872367859)\n",
      "\n",
      "Epoch: 10\t iter:157/157\t loss:0.052081014961004264\n",
      "Wall time: 13.4 s\n"
     ]
    }
   ],
   "source": [
    "%%time\n",
    "model = NWPPLayer()\n",
    "loss_fn = tf.keras.losses.BinaryCrossentropy()\n",
    "optimizer = tf.keras.optimizers.Adam()  # training on defaults\n",
    "\n",
    "train_params, val_params, loss_arr = train(model=model,optimizer=optimizer, loss_fn=loss_fn, epochs=10,\n",
    "                                           train_data=packed_train_data, validation_data=packed_test_data)"
   ]
  },
  {
   "cell_type": "markdown",
   "metadata": {},
   "source": [
    " "
   ]
  },
  {
   "cell_type": "code",
   "execution_count": 45,
   "metadata": {},
   "outputs": [],
   "source": [
    "import matplotlib.pyplot as plt"
   ]
  },
  {
   "cell_type": "code",
   "execution_count": 46,
   "metadata": {},
   "outputs": [
    {
     "data": {
      "image/png": "[encoded data removed]",
      "text/plain": [
       "<Figure size 432x288 with 1 Axes>"
      ]
     },
     "metadata": {
      "needs_background": "light"
     },
     "output_type": "display_data"
    }
   ],
   "source": [
    "plt.plot(loss_arr, 'r')\n",
    "plt.xlabel('Iterations')\n",
    "plt.ylabel('Loss')\n",
    "plt.show()"
   ]
  },
  {
   "cell_type": "code",
   "execution_count": 49,
   "metadata": {},
   "outputs": [
    {
     "data": {
      "image/png": "[encoded data removed]",
      "text/plain": [
       "<Figure size 720x360 with 2 Axes>"
      ]
     },
     "metadata": {
      "needs_background": "light"
     },
     "output_type": "display_data"
    }
   ],
   "source": [
    "plt.subplots(1,2, sharex=True, figsize=(10, 5))\n",
    "plt.suptitle('Training Summary')\n",
    "\n",
    "plt.subplot(1,2,1)\n",
    "plt.plot(train_params['epoch'], train_params['loss'], marker='o', label='Train')\n",
    "plt.plot(val_params['epoch'], val_params['loss'], marker='o', label='Test')\n",
    "plt.xlabel('Epoch')\n",
    "plt.ylim(bottom=0)\n",
    "plt.ylabel('Loss')\n",
    "plt.legend()\n",
    "\n",
    "plt.subplot(1,2,2)\n",
    "plt.plot(train_params['epoch'], train_params['accuracy'], marker='o', label='Train')\n",
    "plt.plot(val_params['epoch'], val_params['accuracy'], marker='o', label='Test')\n",
    "plt.xlabel('Epoch')\n",
    "plt.ylabel('Accuracy')\n",
    "plt.ylim(0,100)\n",
    "plt.legend()\n",
    "plt.show()"
   ]
  },
  {
   "cell_type": "markdown",
   "metadata": {},
   "source": [
    " "
   ]
  },
  {
   "cell_type": "markdown",
   "metadata": {},
   "source": [
    " "
   ]
  },
  {
   "cell_type": "markdown",
   "metadata": {},
   "source": [
    " "
   ]
  },
  {
   "cell_type": "markdown",
   "metadata": {},
   "source": [
    " "
   ]
  },
  {
   "cell_type": "markdown",
   "metadata": {},
   "source": [
    "## Training with keras sequential APIs"
   ]
  },
  {
   "cell_type": "code",
   "execution_count": 50,
   "metadata": {},
   "outputs": [],
   "source": [
    "model1 = tf.keras.Sequential(layers=[\n",
    "    preprocessing_layer,\n",
    "    tf.keras.layers.Dense(units=128, activation='relu'),\n",
    "    tf.keras.layers.Dense(units=128, activation='relu'),\n",
    "    tf.keras.layers.Dense(units=1, activation='sigmoid')\n",
    "])\n",
    "\n",
    "model1.compile(loss='binary_crossentropy',\n",
    "             optimizer='adam',\n",
    "             metrics=['accuracy']\n",
    ")"
   ]
  },
  {
   "cell_type": "code",
   "execution_count": 51,
   "metadata": {},
   "outputs": [],
   "source": [
    "train_data = packed_train_data.shuffle(buffer_size=500)\n",
    "test_data = packed_test_data"
   ]
  },
  {
   "cell_type": "code",
   "execution_count": 52,
   "metadata": {},
   "outputs": [
    {
     "name": "stdout",
     "output_type": "stream",
     "text": [
      "Epoch 1/10\n",
      "157/157 [==============================] - 4s 24ms/step - loss: 0.5081 - accuracy: 0.7863\n",
      "Epoch 2/10\n",
      "157/157 [==============================] - 1s 6ms/step - loss: 0.4217 - accuracy: 0.8262\n",
      "Epoch 3/10\n",
      "157/157 [==============================] - 1s 6ms/step - loss: 0.4003 - accuracy: 0.8262\n",
      "Epoch 4/10\n",
      "157/157 [==============================] - 1s 6ms/step - loss: 0.3850 - accuracy: 0.8325\n",
      "Epoch 5/10\n",
      "157/157 [==============================] - 1s 6ms/step - loss: 0.3816 - accuracy: 0.8421\n",
      "Epoch 6/10\n",
      "157/157 [==============================] - 1s 7ms/step - loss: 0.3651 - accuracy: 0.8469\n",
      "Epoch 7/10\n",
      "157/157 [==============================] - 1s 6ms/step - loss: 0.3652 - accuracy: 0.8453\n",
      "Epoch 8/10\n",
      "157/157 [==============================] - 1s 6ms/step - loss: 0.3595 - accuracy: 0.8549\n",
      "Epoch 9/10\n",
      "157/157 [==============================] - 1s 6ms/step - loss: 0.3537 - accuracy: 0.8437\n",
      "Epoch 10/10\n",
      "157/157 [==============================] - 1s 6ms/step - loss: 0.3459 - accuracy: 0.8549\n",
      "Wall time: 12.3 s\n"
     ]
    }
   ],
   "source": [
    "%%time\n",
    "history = model1.fit(x=train_data, epochs=10)"
   ]
  },
  {
   "cell_type": "code",
   "execution_count": 53,
   "metadata": {},
   "outputs": [
    {
     "data": {
      "text/plain": [
       "{'loss': [0.5076252789588637,\n",
       "  0.4204417937680295,\n",
       "  0.4015993078787361,\n",
       "  0.3871122618136033,\n",
       "  0.38088044902069146,\n",
       "  0.36581794884311336,\n",
       "  0.36281968776784257,\n",
       "  0.35785050188715567,\n",
       "  0.3524662312090492,\n",
       "  0.34565482453771373],\n",
       " 'accuracy': [0.7862839,\n",
       "  0.8261563,\n",
       "  0.8261563,\n",
       "  0.83253586,\n",
       "  0.84210527,\n",
       "  0.84689,\n",
       "  0.8452951,\n",
       "  0.8548644,\n",
       "  0.8437002,\n",
       "  0.8548644]}"
      ]
     },
     "execution_count": 53,
     "metadata": {},
     "output_type": "execute_result"
    }
   ],
   "source": [
    "history.history"
   ]
  },
  {
   "cell_type": "code",
   "execution_count": 54,
   "metadata": {},
   "outputs": [
    {
     "name": "stdout",
     "output_type": "stream",
     "text": [
      "66/66 [==============================] - 1s 10ms/step - loss: 0.4585 - accuracy: 0.8068\n",
      "\n",
      "\n",
      "Test Loss 0.4584726510625897, Test Accuracy 0.8068181872367859\n",
      "66/66 [==============================] - 0s 7ms/step - loss: 0.4585 - accuracy: 0.8068\n",
      "\n",
      "\n",
      "Test Loss 0.4584726510625897, Test Accuracy 0.8068181872367859\n",
      "66/66 [==============================] - 0s 7ms/step - loss: 0.4585 - accuracy: 0.8068\n",
      "\n",
      "\n",
      "Test Loss 0.4584726510625897, Test Accuracy 0.8068181872367859\n",
      "66/66 [==============================] - 0s 7ms/step - loss: 0.4585 - accuracy: 0.8068\n",
      "\n",
      "\n",
      "Test Loss 0.4584726510625897, Test Accuracy 0.8068181872367859\n",
      "66/66 [==============================] - 0s 7ms/step - loss: 0.4585 - accuracy: 0.8068.4725 -\n",
      "\n",
      "\n",
      "Test Loss 0.4584726510625897, Test Accuracy 0.8068181872367859\n",
      "66/66 [==============================] - 0s 7ms/step - loss: 0.4585 - accuracy: 0.8068\n",
      "\n",
      "\n",
      "Test Loss 0.4584726510625897, Test Accuracy 0.8068181872367859\n",
      "66/66 [==============================] - 1s 8ms/step - loss: 0.4585 - accuracy: 0.8068\n",
      "\n",
      "\n",
      "Test Loss 0.4584726510625897, Test Accuracy 0.8068181872367859\n",
      "66/66 [==============================] - 0s 8ms/step - loss: 0.4585 - accuracy: 0.8068\n",
      "\n",
      "\n",
      "Test Loss 0.4584726510625897, Test Accuracy 0.8068181872367859\n",
      "498 ms ± 22 ms per loop (mean ± std. dev. of 7 runs, 1 loop each)\n"
     ]
    }
   ],
   "source": [
    "%%timeit\n",
    "test_loss, test_accuracy = model1.evaluate(test_data)\n",
    "print('\\n\\nTest Loss {}, Test Accuracy {}'.format(test_loss, test_accuracy))"
   ]
  },
  {
   "cell_type": "code",
   "execution_count": 55,
   "metadata": {},
   "outputs": [
    {
     "name": "stdout",
     "output_type": "stream",
     "text": [
      "\n",
      "\n",
      "Test Acc 82.95454382896423, Test loss 0.43067270517349243\n",
      "\n",
      "\n",
      "Test Acc 82.95454382896423, Test loss 0.43067270517349243\n",
      "\n",
      "\n",
      "Test Acc 82.95454382896423, Test loss 0.43067270517349243\n",
      "\n",
      "\n",
      "Test Acc 82.95454382896423, Test loss 0.43067270517349243\n",
      "\n",
      "\n",
      "Test Acc 82.95454382896423, Test loss 0.43067270517349243\n",
      "\n",
      "\n",
      "Test Acc 82.95454382896423, Test loss 0.43067270517349243\n",
      "\n",
      "\n",
      "Test Acc 82.95454382896423, Test loss 0.43067270517349243\n",
      "\n",
      "\n",
      "Test Acc 82.95454382896423, Test loss 0.43067270517349243\n",
      "213 ms ± 28 ms per loop (mean ± std. dev. of 7 runs, 1 loop each)\n"
     ]
    }
   ],
   "source": [
    "%%timeit\n",
    "test_loss, test_accuracy = model.evaluate(test_data, loss_fn)\n",
    "print('\\n\\nTest Acc {}, Test loss {}'.format(test_loss, test_accuracy))"
   ]
  },
  {
   "cell_type": "markdown",
   "metadata": {},
   "source": [
    "### ------------ almost twice as fast as keras evaluate"
   ]
  },
  {
   "cell_type": "code",
   "execution_count": 56,
   "metadata": {},
   "outputs": [
    {
     "name": "stdout",
     "output_type": "stream",
     "text": [
      "Wall time: 0 ns\n",
      "Predicted survival: 20.47%  | Actual outcome:  DIED\n",
      "Predicted survival: 55.71%  | Actual outcome:  DIED\n",
      "Predicted survival: 87.67%  | Actual outcome:  SURVIVED\n",
      "Predicted survival: 84.86%  | Actual outcome:  SURVIVED\n"
     ]
    }
   ],
   "source": [
    "%time\n",
    "predictions = model1.predict(test_data)\n",
    "\n",
    "# Show some results\n",
    "for prediction, survived in zip(predictions[:20], list(test_data)[0][1][:20]):\n",
    "    print(\"Predicted survival: {:.2%}\".format(prediction[0]),\n",
    "        \" | Actual outcome: \",\n",
    "        (\"SURVIVED\" if bool(survived) else \"DIED\"))\n"
   ]
  },
  {
   "cell_type": "code",
   "execution_count": null,
   "metadata": {},
   "outputs": [],
   "source": []
  },
  {
   "cell_type": "code",
   "execution_count": null,
   "metadata": {},
   "outputs": [],
   "source": []
  },
  {
   "cell_type": "markdown",
   "metadata": {},
   "source": [
    " "
   ]
  },
  {
   "cell_type": "markdown",
   "metadata": {},
   "source": [
    " "
   ]
  },
  {
   "cell_type": "markdown",
   "metadata": {},
   "source": [
    " "
   ]
  },
  {
   "cell_type": "markdown",
   "metadata": {},
   "source": [
    " "
   ]
  },
  {
   "cell_type": "markdown",
   "metadata": {},
   "source": [
    " "
   ]
  },
  {
   "cell_type": "markdown",
   "metadata": {},
   "source": [
    "## Save the trained model along with the optimizer"
   ]
  },
  {
   "cell_type": "code",
   "execution_count": null,
   "metadata": {},
   "outputs": [],
   "source": []
  },
  {
   "cell_type": "code",
   "execution_count": null,
   "metadata": {},
   "outputs": [],
   "source": []
  },
  {
   "cell_type": "code",
   "execution_count": null,
   "metadata": {},
   "outputs": [],
   "source": []
  },
  {
   "cell_type": "code",
   "execution_count": null,
   "metadata": {},
   "outputs": [],
   "source": []
  },
  {
   "cell_type": "code",
   "execution_count": null,
   "metadata": {},
   "outputs": [],
   "source": []
  },
  {
   "cell_type": "code",
   "execution_count": null,
   "metadata": {},
   "outputs": [],
   "source": []
  }
 ],
 "metadata": {
  "kernelspec": {
   "display_name": "Python 3",
   "language": "python",
   "name": "python3"
  },
  "language_info": {
   "codemirror_mode": {
    "name": "ipython",
    "version": 3
   },
   "file_extension": ".py",
   "mimetype": "text/x-python",
   "name": "python",
   "nbconvert_exporter": "python",
   "pygments_lexer": "ipython3",
   "version": "3.7.1"
  }
 },
 "nbformat": 4,
 "nbformat_minor": 4
}
