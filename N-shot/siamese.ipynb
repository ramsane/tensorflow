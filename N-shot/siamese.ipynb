{
 "cells": [
  {
   "cell_type": "code",
   "execution_count": 1,
   "metadata": {
    "Collapsed": "false"
   },
   "outputs": [],
   "source": [
    "import tensorflow as tf"
   ]
  },
  {
   "cell_type": "code",
   "execution_count": 2,
   "metadata": {
    "Collapsed": "false"
   },
   "outputs": [],
   "source": [
    "import os\n",
    "from pathlib import Path\n",
    "\n",
    "import zipfile\n",
    "import random\n",
    "import numpy as np\n",
    "import math\n",
    "from PIL import Image"
   ]
  },
  {
   "cell_type": "code",
   "execution_count": 3,
   "metadata": {
    "Collapsed": "false"
   },
   "outputs": [],
   "source": [
    "import matplotlib.pyplot as plt"
   ]
  },
  {
   "cell_type": "code",
   "execution_count": 4,
   "metadata": {
    "Collapsed": "false"
   },
   "outputs": [],
   "source": [
    "train_file = 'images_background'\n",
    "test_file = 'images_evaluation'"
   ]
  },
  {
   "cell_type": "code",
   "execution_count": 5,
   "metadata": {
    "Collapsed": "false"
   },
   "outputs": [],
   "source": [
    "BASE_PATH = 'https://raw.githubusercontent.com/brendenlake/omniglot/master/python'"
   ]
  },
  {
   "cell_type": "code",
   "execution_count": 6,
   "metadata": {
    "Collapsed": "false"
   },
   "outputs": [
    {
     "name": "stdout",
     "output_type": "stream",
     "text": [
      "Getting images_background ... File already downloaded.. Assuming those are extracted too..\n",
      "Getting images_evaluation ... File already downloaded.. Assuming those are extracted too..\n",
      "Wall time: 1 ms\n"
     ]
    }
   ],
   "source": [
    "%%time\n",
    "def get_omniglot():\n",
    "    \n",
    "    for file_name in ['images_background', 'images_evaluation']:\n",
    "        print(f'Getting {file_name} ...', end=' ')\n",
    "        # creating directory if it is not there\n",
    "        file_path = os.path.abspath(Path(f'omniglot/{file_name}.zip'))\n",
    "        if os.path.isfile(file_path):\n",
    "            print('File already downloaded.. Assuming those are extracted too..')\n",
    "            continue\n",
    "        dir_name = os.path.dirname(file_path)\n",
    "        if not os.path.exists(dir_name):\n",
    "            os.makedirs(dir_name)\n",
    "\n",
    "        # download the file to 'omniglot' directory\n",
    "        dataset_path = tf.keras.utils.get_file(fname=file_path,\n",
    "                                               origin=f'{BASE_PATH}/{file_name}.zip',\n",
    "                                               extract=False)\n",
    "\n",
    "        # extracting to 'omniglot' directory\n",
    "        with zipfile.ZipFile(dataset_path, 'r') as zip_ref:\n",
    "            zip_ref.extractall('./omniglot/')\n",
    "\n",
    "# get the dataset from Github\n",
    "get_omniglot()"
   ]
  },
  {
   "cell_type": "markdown",
   "metadata": {
    "Collapsed": "false"
   },
   "source": [
    "## Omniglot Loader"
   ]
  },
  {
   "cell_type": "code",
   "execution_count": 7,
   "metadata": {
    "Collapsed": "false"
   },
   "outputs": [],
   "source": [
    "dataset_path = 'omniglot'\n",
    "train_path = os.path.join(dataset_path, 'images_background')\n",
    "validation_path = os.path.join(dataset_path, 'images_evaluation')"
   ]
  },
  {
   "cell_type": "code",
   "execution_count": 8,
   "metadata": {
    "Collapsed": "false"
   },
   "outputs": [],
   "source": [
    "omniglot = Path(dataset_path)\n",
    "alphabets = list(omniglot.glob('images_background/*'))\n",
    "number_of_alphabets = len(alphabets)\n",
    "\n",
    "# shuffle and split the dataset\n",
    "random.seed(25)\n",
    "random.shuffle(alphabets)\n",
    "train_split = 0.8\n",
    "train_alphabets = alphabets[:int(number_of_alphabets*train_split)]\n",
    "val_alphabets = alphabets[int(number_of_alphabets*train_split):]\n",
    "eval_alphabets = list(omniglot.glob('images_evaluation/*'))\n",
    "\n",
    "# conver them from WIndowsPath to string\n",
    "train_alphabets = [alpha for alpha in train_alphabets]\n",
    "val_alphabets = [alpha for alpha in val_alphabets]\n",
    "eval_alphabets = [alpha for alpha in eval_alphabets]\n",
    "\n",
    "\n",
    "# combine all alphabets to get the dictionary\n",
    "alphabets = train_alphabets + val_alphabets + eval_alphabets\n",
    "\n",
    "# load the folder structure into dictionary\n",
    "alphabets_dict = {}\n",
    "for alphabet in alphabets:\n",
    "    # get images from each character directory\n",
    "    alphabets_dict[alphabet.name] = {\n",
    "        character.name: [image.name for image in character.glob('*')]\n",
    "        for character in alphabet.glob('*')\n",
    "    }"
   ]
  },
  {
   "cell_type": "code",
   "execution_count": 9,
   "metadata": {
    "Collapsed": "false"
   },
   "outputs": [],
   "source": [
    "def get_two_pairs(alphabets):\n",
    "    \"\"\"\n",
    "    Generater to get pairs of images for siamese network\n",
    "    \"\"\"\n",
    "    for alphabet in alphabets:\n",
    "        alphabet = Path(alphabet.decode())\n",
    "        # select two characters from the current alhabet\n",
    "        char1, char2 = random.sample(alphabets_dict[alphabet.name].keys(), 2)\n",
    "        \n",
    "        # select 3 images from char1 and 1 image from char2\n",
    "        same_images = random.sample(alphabets_dict[alphabet.name][char1], 3)\n",
    "        different_image = random.choice(alphabets_dict[alphabet.name][char2])\n",
    "        \n",
    "        # (char1, char1) of same class \n",
    "        yield (\n",
    "            # images pair\n",
    "            os.path.join(alphabet, char1, same_images[0]),\n",
    "            os.path.join(alphabet, char1, same_images[1]),\n",
    "            # label \n",
    "            1\n",
    "        )\n",
    "        \n",
    "        # and (char1, char2) of different class\n",
    "        yield (\n",
    "            # images pair\n",
    "            os.path.join(alphabet, char1, same_images[2]),\n",
    "            os.path.join(alphabet, char2, different_image),\n",
    "            # label \n",
    "            0)"
   ]
  },
  {
   "cell_type": "code",
   "execution_count": 10,
   "metadata": {
    "Collapsed": "false"
   },
   "outputs": [],
   "source": [
    "def get_tfds(alphabets):\n",
    "    return tf.data.Dataset.from_generator(\n",
    "    generator = get_two_pairs,\n",
    "    output_types=(tf.string, tf.string, tf.int32),\n",
    "    args=([str(alpha) for alpha in alphabets],)\n",
    ")\n",
    "\n",
    "# train, validation and  test(eval dataset)\n",
    "train_ds = get_tfds(train_alphabets)\n",
    "val_ds = get_tfds(val_alphabets)\n",
    "eval_ds = get_tfds(eval_alphabets)\n"
   ]
  },
  {
   "cell_type": "code",
   "execution_count": 11,
   "metadata": {
    "Collapsed": "false"
   },
   "outputs": [
    {
     "name": "stdout",
     "output_type": "stream",
     "text": [
      "b'omniglot\\\\images_background\\\\Ojibwe_(Canadian_Aboriginal_Syllabics)\\\\character07\\\\0843_01.png' \n",
      " b'omniglot\\\\images_background\\\\Ojibwe_(Canadian_Aboriginal_Syllabics)\\\\character07\\\\0843_07.png'\n",
      "1\n",
      "\n",
      "b'omniglot\\\\images_background\\\\Ojibwe_(Canadian_Aboriginal_Syllabics)\\\\character07\\\\0843_10.png' \n",
      " b'omniglot\\\\images_background\\\\Ojibwe_(Canadian_Aboriginal_Syllabics)\\\\character13\\\\0849_16.png'\n",
      "0\n",
      "\n"
     ]
    }
   ],
   "source": [
    "random.seed(25)\n",
    "for image1, image2, label in train_ds.take(2):\n",
    "    print(image1.numpy(),'\\n',image2.numpy())\n",
    "    print(label.numpy())\n",
    "    print()"
   ]
  },
  {
   "cell_type": "code",
   "execution_count": 12,
   "metadata": {
    "Collapsed": "false"
   },
   "outputs": [],
   "source": [
    "IMG_HEIGHT = 105\n",
    "IMG_WIDTH = 105"
   ]
  },
  {
   "cell_type": "code",
   "execution_count": 13,
   "metadata": {
    "Collapsed": "false"
   },
   "outputs": [],
   "source": [
    "def plot_siamese(image1, image2, label):\n",
    "    fig, axarr = plt.subplots(1, 2)\n",
    "    fig.suptitle(\"Different\" if label==0 else \"Same\", fontsize=16)\n",
    "\n",
    "    plt.subplot(1,2,1)\n",
    "    plt.imshow(image1)\n",
    "    plt.axis('off')\n",
    "\n",
    "    plt.subplot(1,2,2)\n",
    "    plt.imshow(image2)\n",
    "    plt.axis('off')"
   ]
  },
  {
   "cell_type": "code",
   "execution_count": 14,
   "metadata": {
    "Collapsed": "false"
   },
   "outputs": [],
   "source": [
    "def read_images(file_path1, file_path2, label):\n",
    "    def read_image(file_path):\n",
    "        # read the image from file as raw string\n",
    "        img = tf.io.read_file(filename=file_path)\n",
    "\n",
    "        # convert the string image to 3D uint8 tensor\n",
    "        img = tf.image.decode_jpeg(contents=img, channels=3)\n",
    "\n",
    "        # convert that image to float32\n",
    "        img = tf.image.convert_image_dtype(image=img, dtype=tf.float32)\n",
    "        \n",
    "        return tf.image.resize(images=img, size=[IMG_HEIGHT, IMG_WIDTH])\n",
    "    \n",
    "    \n",
    "    return read_image(file_path1), read_image(file_path2), label"
   ]
  },
  {
   "cell_type": "code",
   "execution_count": 15,
   "metadata": {
    "Collapsed": "false"
   },
   "outputs": [],
   "source": [
    "AUTOTUNE = tf.data.experimental.AUTOTUNE"
   ]
  },
  {
   "cell_type": "code",
   "execution_count": 16,
   "metadata": {
    "Collapsed": "false"
   },
   "outputs": [
    {
     "data": {
      "image/png": "[encoded data removed]",
      "text/plain": [
       "<Figure size 432x288 with 2 Axes>"
      ]
     },
     "metadata": {
      "needs_background": "light"
     },
     "output_type": "display_data"
    },
    {
     "data": {
      "image/png": "[encoded data removed]",
      "text/plain": [
       "<Figure size 432x288 with 2 Axes>"
      ]
     },
     "metadata": {
      "needs_background": "light"
     },
     "output_type": "display_data"
    }
   ],
   "source": [
    "ds = val_ds.map(read_images, num_parallel_calls=AUTOTUNE)\n",
    "\n",
    "for image1, image2, label in ds.take(2):\n",
    "    plot_siamese(image1, image2, label)"
   ]
  },
  {
   "cell_type": "code",
   "execution_count": 17,
   "metadata": {
    "Collapsed": "false"
   },
   "outputs": [],
   "source": [
    "BATCH_SIZE = 32"
   ]
  },
  {
   "cell_type": "code",
   "execution_count": 18,
   "metadata": {
    "Collapsed": "false"
   },
   "outputs": [],
   "source": [
    "def prepare_dataset(ds):\n",
    "    \n",
    "    # read images from strings\n",
    "    ds = ds.map(read_images, num_parallel_calls=AUTOTUNE)\n",
    "    \n",
    "    # repeat the train dataset hoping that all the classes are\n",
    "    # covered for an alphabet.\n",
    "    ds = ds.repeat(count=32)\n",
    "    \n",
    "    # to train the model in batches\n",
    "    ds = ds.batch(batch_size=BATCH_SIZE)\n",
    "    \n",
    "    # prefetch: called after batching so that batches are\n",
    "    # pre-fetched in background while training\n",
    "    ds = ds.prefetch(buffer_size=AUTOTUNE)\n",
    "    \n",
    "    return ds\n",
    "\n",
    "# prepare dataset for training, validation and testing(evaluating)\n",
    "train_ds_final = prepare_dataset(train_ds)\n",
    "val_ds_final = prepare_dataset(val_ds)\n",
    "eval_ds_final = prepare_dataset(eval_ds)"
   ]
  },
  {
   "cell_type": "code",
   "execution_count": 19,
   "metadata": {
    "Collapsed": "false"
   },
   "outputs": [
    {
     "name": "stdout",
     "output_type": "stream",
     "text": [
      "(32, 105, 105, 3) (32, 105, 105, 3)\n"
     ]
    }
   ],
   "source": [
    "for image1s, image2s, labels in train_ds_final.take(1):\n",
    "    print(image1s.shape, image2s.shape)"
   ]
  },
  {
   "cell_type": "code",
   "execution_count": 20,
   "metadata": {
    "Collapsed": "false"
   },
   "outputs": [
    {
     "data": {
      "image/png": "[encoded data removed]",
      "text/plain": [
       "<Figure size 432x288 with 2 Axes>"
      ]
     },
     "metadata": {
      "needs_background": "light"
     },
     "output_type": "display_data"
    },
    {
     "data": {
      "image/png": "[encoded data removed]",
      "text/plain": [
       "<Figure size 432x288 with 2 Axes>"
      ]
     },
     "metadata": {
      "needs_background": "light"
     },
     "output_type": "display_data"
    },
    {
     "data": {
      "image/png": "[encoded data removed]",
      "text/plain": [
       "<Figure size 432x288 with 2 Axes>"
      ]
     },
     "metadata": {
      "needs_background": "light"
     },
     "output_type": "display_data"
    },
    {
     "data": {
      "image/png": "[encoded data removed]",
      "text/plain": [
       "<Figure size 432x288 with 2 Axes>"
      ]
     },
     "metadata": {
      "needs_background": "light"
     },
     "output_type": "display_data"
    }
   ],
   "source": [
    "for image1, image2, label in zip(image1s[:4], image2s[:4], labels[:4]):\n",
    "    plot_siamese(image1, image2,label)"
   ]
  },
  {
   "cell_type": "markdown",
   "metadata": {
    "Collapsed": "false"
   },
   "source": [
    "## Model"
   ]
  },
  {
   "cell_type": "code",
   "execution_count": 21,
   "metadata": {
    "Collapsed": "false"
   },
   "outputs": [],
   "source": [
    "# Siamese Neural Networks for One-shot Image Recognition\n",
    "### https://www.cs.cmu.edu/~rsalakhu/papers/oneshot1.pdf\n"
   ]
  },
  {
   "cell_type": "code",
   "execution_count": 22,
   "metadata": {
    "Collapsed": "false"
   },
   "outputs": [
    {
     "data": {
      "text/plain": [
       "(105, 105, 3)"
      ]
     },
     "execution_count": 22,
     "metadata": {},
     "output_type": "execute_result"
    }
   ],
   "source": [
    "INPUT_SHAPE = (105, 105, 3)\n",
    "INPUT_SHAPE"
   ]
  },
  {
   "cell_type": "code",
   "execution_count": 23,
   "metadata": {
    "Collapsed": "false"
   },
   "outputs": [],
   "source": [
    "from tensorflow.keras import layers"
   ]
  },
  {
   "cell_type": "code",
   "execution_count": 24,
   "metadata": {
    "Collapsed": "false"
   },
   "outputs": [],
   "source": [
    "def conv_block(name, filters, kernel_size, l2_reg_factor,):\n",
    "    \"\"\"Same as original paper but with Batch \"\"\"\n",
    "    with tf.name_scope(name=name):\n",
    "        return tf.keras.Sequential(layers=[\n",
    "            layers.Conv2D(filters=filters, kernel_size=kernel_size,\n",
    "                          padding='valid',\n",
    "                          kernel_regularizer=tf.keras.regularizers.l2(l2_reg_factor)),\n",
    "            layers.BatchNormalization(),\n",
    "            layers.ReLU(),\n",
    "            layers.MaxPool2D(pool_size=(2,2))\n",
    "        ], name=name)"
   ]
  },
  {
   "cell_type": "code",
   "execution_count": 25,
   "metadata": {
    "Collapsed": "false"
   },
   "outputs": [],
   "source": [
    "class L1DistanceLayer(tf.keras.layers.Layer):\n",
    "    \n",
    "    def __init__(self, **kwargs):\n",
    "        super(L1DistanceLayer, self).__init__(**kwargs)\n",
    "    \n",
    "    def call(self, inputs):\n",
    "        return tf.abs(inputs[0] - inputs[1])"
   ]
  },
  {
   "cell_type": "code",
   "execution_count": 26,
   "metadata": {
    "Collapsed": "false"
   },
   "outputs": [],
   "source": [
    "class Siamese(tf.keras.Model):\n",
    "    \n",
    "    def __init__(self, **kwargs):\n",
    "        \n",
    "        super(Siamese, self).__init__(**kwargs)\n",
    "        \n",
    "        # CNN encoder\n",
    "        self.encoder = tf.keras.Sequential(layers=[\n",
    "            conv_block(name='Conv1', filters=64, kernel_size=(10,10), l2_reg_factor=1e-2),\n",
    "            conv_block(name='Conv2', filters=128, kernel_size=(7,7), l2_reg_factor=1e-2),\n",
    "            conv_block(name='Conv3', filters=128, kernel_size=(4,4), l2_reg_factor=1e-2),\n",
    "            conv_block(name='Conv4', filters=256, kernel_size=(4,4), l2_reg_factor=1e-2),\n",
    "            layers.Flatten()\n",
    "        ], name='encoder')\n",
    "        \n",
    "        # dense layer\n",
    "        self.dense = tf.keras.layers.Dense(units=4096, activation='sigmoid',\n",
    "                                           kernel_regularizer=tf.keras.regularizers.l2(1e-4),\n",
    "                                          name='dense')\n",
    "        # l1-distance layer\n",
    "        self.l1_distance = L1DistanceLayer(name='distance_layer')\n",
    "        \n",
    "        # output layer\n",
    "        self.logits = tf.keras.layers.Dense(units=1, activation=None)\n",
    "    \n",
    "    @tf.function\n",
    "    def call(self, inputs, training=False):\n",
    "        \n",
    "        # flattened outputs of both images\n",
    "        encoded_image1s = self.dense(self.encoder(inputs[0], training=training))\n",
    "        encoded_image2s = self.dense(self.encoder(inputs[1], training=training))\n",
    "        \n",
    "        # get l1-distance between those images and return the logits\n",
    "        return self.logits(self.l1_distance(inputs=(encoded_image1s, encoded_image2s)))\n",
    "\n",
    "    \n",
    "    def compile(self, loss_fn, optimizer):\n",
    "        \"\"\"Initialize loss_fn and the optimizer\"\"\"\n",
    "        self.loss_fn, self.optimizer = loss_fn, optimizer\n",
    "\n",
    "\n",
    "    def get_config(self):\n",
    "        \"\"\"returns: loss function and optimizer and acc_fn for this model\"\"\"\n",
    "        return {\n",
    "            \"loss_fn\": self.loss_fn,\n",
    "            \"optimizer\": self.optimizer,\n",
    "        }\n",
    "\n",
    "    @tf.function\n",
    "    def train_step(self, batch, labels, train_loss, train_acc):\n",
    "        with tf.GradientTape() as tape:\n",
    "            # recored all the values on a tape in forward pass\n",
    "            logits = self.call(batch, training=True)\n",
    "            loss = self.loss_fn(y_true=labels, y_pred=logits)\n",
    "\n",
    "        # backward pass : grad of parameters w.r.t Loss\n",
    "        gradients = tape.gradient(loss, self.trainable_variables)\n",
    "        self.optimizer.apply_gradients(grads_and_vars=zip(gradients, self.trainable_variables))\n",
    "        \n",
    "        train_loss(loss)  # Mean Metric : Just update the loss\n",
    "        train_acc(y_true=labels, y_pred=tf.nn.sigmoid(logits))  # accuracy Metric\n",
    "    \n",
    "    @tf.function\n",
    "    def test_step(self, batch, labels, test_loss, test_acc):\n",
    "        \"\"\" Run the Inference for the given batch and update the metrics \"\"\"\n",
    "        \n",
    "        logits = self.call(batch, training=False)\n",
    "        loss = self.loss_fn(y_true=labels, y_pred=logits)\n",
    "        \n",
    "        test_loss(loss)  # Mean Metric - just update the loss\n",
    "        test_acc(y_true=labels, y_pred=tf.nn.sigmoid(logits))  # Accuracy Metric\n",
    " "
   ]
  },
  {
   "cell_type": "code",
   "execution_count": 27,
   "metadata": {
    "Collapsed": "false"
   },
   "outputs": [],
   "source": [
    "model = Siamese(name='Siamese')\n",
    "# update the loss function and optiizer for the model\n",
    "model.compile(loss_fn=tf.losses.BinaryCrossentropy(from_logits=True),\n",
    "              optimizer=tf.optimizers.SGD(nesterov=True))"
   ]
  },
  {
   "cell_type": "code",
   "execution_count": 28,
   "metadata": {
    "Collapsed": "false"
   },
   "outputs": [],
   "source": [
    "# Train and test(validation) metrics\n",
    "train_loss = tf.keras.metrics.Mean(name='train_loss')\n",
    "train_acc = tf.keras.metrics.BinaryAccuracy(name='train_accuracy')\n",
    "\n",
    "val_loss = tf.keras.metrics.Mean(name='validation_loss')\n",
    "val_acc = tf.keras.metrics.BinaryAccuracy(name='validation_accuracy')"
   ]
  },
  {
   "cell_type": "markdown",
   "metadata": {
    "Collapsed": "false"
   },
   "source": [
    "## Training"
   ]
  },
  {
   "cell_type": "markdown",
   "metadata": {
    "Collapsed": "false"
   },
   "source": [
    "### Creating & loading check points for this model\n",
    "- https://www.tensorflow.org/guide/checkpoint"
   ]
  },
  {
   "cell_type": "code",
   "execution_count": 29,
   "metadata": {
    "Collapsed": "false"
   },
   "outputs": [
    {
     "data": {
      "text/plain": [
       "<tf.Variable 'iter:0' shape=() dtype=int64, numpy=0>"
      ]
     },
     "execution_count": 29,
     "metadata": {},
     "output_type": "execute_result"
    }
   ],
   "source": [
    "model.optimizer.iterations  # before loading checkpoint"
   ]
  },
  {
   "cell_type": "code",
   "execution_count": 30,
   "metadata": {
    "Collapsed": "false"
   },
   "outputs": [],
   "source": [
    "# define model checkpoint with objects that we want to save\n",
    "# as attriutes to the checkpoint object\n",
    "model_ckpt = tf.train.Checkpoint(step=tf.Variable(0), epoch=tf.Variable(0),\n",
    "                                 optimizer=model.optimizer,\n",
    "                                 model=model)\n",
    "\n",
    "# manager to manage multiple checkpoints. Here, we keep only lateset 10 model check points\n",
    "model_ckpt_manager = tf.train.CheckpointManager(model_ckpt, './siamese_tf_ckpts',\n",
    "                                                max_to_keep=10)\n"
   ]
  },
  {
   "cell_type": "code",
   "execution_count": 31,
   "metadata": {
    "Collapsed": "false"
   },
   "outputs": [
    {
     "name": "stdout",
     "output_type": "stream",
     "text": [
      "Restored from ./siamese_tf_ckpts\\ckpt-75\n"
     ]
    }
   ],
   "source": [
    "# load the model (latest checkpoint)\n",
    "# load the model check point\n",
    "model_ckpt.restore(model_ckpt_manager.latest_checkpoint)\n",
    "\n",
    "if model_ckpt_manager.latest_checkpoint:\n",
    "    print(\"Restored from {}\".format(model_ckpt_manager.latest_checkpoint))\n",
    "else:\n",
    "     print(\"Training from scratch.\")"
   ]
  },
  {
   "cell_type": "code",
   "execution_count": 32,
   "metadata": {
    "Collapsed": "false"
   },
   "outputs": [
    {
     "data": {
      "text/plain": [
       "(7200, 150)"
      ]
     },
     "execution_count": 32,
     "metadata": {},
     "output_type": "execute_result"
    }
   ],
   "source": [
    "model_ckpt.step.numpy(), model_ckpt.epoch.numpy()"
   ]
  },
  {
   "cell_type": "code",
   "execution_count": 33,
   "metadata": {
    "Collapsed": "false"
   },
   "outputs": [
    {
     "data": {
      "text/plain": [
       "<tf.Variable 'iter:0' shape=() dtype=int64, numpy=7200>"
      ]
     },
     "execution_count": 33,
     "metadata": {},
     "output_type": "execute_result"
    }
   ],
   "source": [
    "model.optimizer.iterations  # After loading checkpoint"
   ]
  },
  {
   "cell_type": "code",
   "execution_count": 34,
   "metadata": {
    "Collapsed": "false"
   },
   "outputs": [
    {
     "data": {
      "text/plain": [
       "(<tf.Variable 'Variable:0' shape=() dtype=int32, numpy=150>,\n",
       " <tf.Variable 'Variable:0' shape=() dtype=int32, numpy=7200>)"
      ]
     },
     "execution_count": 34,
     "metadata": {},
     "output_type": "execute_result"
    }
   ],
   "source": [
    "model_ckpt.epoch, model_ckpt.step"
   ]
  },
  {
   "cell_type": "markdown",
   "metadata": {
    "Collapsed": "false"
   },
   "source": [
    "### Training"
   ]
  },
  {
   "cell_type": "code",
   "execution_count": 35,
   "metadata": {
    "Collapsed": "false"
   },
   "outputs": [],
   "source": [
    "# Creating summary writers for this model\n",
    "wtrain = tf.summary.create_file_writer(logdir=\"logs/siamese/train\")\n",
    "wtest = tf.summary.create_file_writer(logdir=\"logs/siamese/test\")"
   ]
  },
  {
   "cell_type": "code",
   "execution_count": 36,
   "metadata": {
    "Collapsed": "false"
   },
   "outputs": [],
   "source": [
    "from time import perf_counter"
   ]
  },
  {
   "cell_type": "code",
   "execution_count": 37,
   "metadata": {
    "Collapsed": "false"
   },
   "outputs": [
    {
     "name": "stdout",
     "output_type": "stream",
     "text": [
      "\n",
      "Epoch:151/200 loss:0.22218  acc:0.9251  val_loss:0.38451  val_acc:0.8255 - 14s(total: 14s)\n",
      "\n",
      "Epoch:152/200 loss:0.20316  acc:0.9310  val_loss:0.35224  val_acc:0.8750 - 12s(total: 27s)\n",
      "Saved checkpoint for step 7300: ./siamese_tf_ckpts\\ckpt-76\n",
      "\n",
      "Epoch:153/200 loss:0.20110  acc:0.9368  val_loss:0.40362  val_acc:0.8333 - 13s(total: 39s)\n",
      "\n",
      "Epoch:154/200 loss:0.21622  acc:0.9238  val_loss:0.29969  val_acc:0.8698 - 9s(total: 48s)\n",
      "Saved checkpoint for step 7400: ./siamese_tf_ckpts\\ckpt-77\n",
      "\n",
      "Epoch:155/200 loss:0.19620  acc:0.9329  val_loss:0.30878  val_acc:0.8672 - 13s(total: 61s)\n",
      "\n",
      "Epoch:156/200 loss:0.19634  acc:0.9329  val_loss:0.32814  val_acc:0.8620 - 10s(total: 71s)\n",
      "Saved checkpoint for step 7500: ./siamese_tf_ckpts\\ckpt-78\n",
      "\n",
      "Epoch:157/200 loss:0.20709  acc:0.9310  val_loss:0.42142  val_acc:0.8255 - 12s(total: 83s)\n",
      "\n",
      "Epoch:158/200 loss:0.20801  acc:0.9349  val_loss:0.36295  val_acc:0.8438 - 8s(total: 91s)\n",
      "Saved checkpoint for step 7600: ./siamese_tf_ckpts\\ckpt-79\n",
      "\n",
      "Epoch:159/200 loss:0.17453  acc:0.9421  val_loss:0.37449  val_acc:0.8438 - 9s(total: 100s)\n",
      "\n",
      "Epoch:160/200 loss:0.20731  acc:0.9277  val_loss:0.36837  val_acc:0.8307 - 8s(total: 109s)\n",
      "Saved checkpoint for step 7700: ./siamese_tf_ckpts\\ckpt-80\n",
      "\n",
      "Epoch:161/200 loss:0.19745  acc:0.9382  val_loss:0.36643  val_acc:0.8542 - 9s(total: 118s)\n",
      "\n",
      "Epoch:162/200 loss:0.18313  acc:0.9329  val_loss:0.35280  val_acc:0.8542 - 8s(total: 126s)\n",
      "Saved checkpoint for step 7800: ./siamese_tf_ckpts\\ckpt-81\n",
      "\n",
      "Epoch:163/200 loss:0.21430  acc:0.9310  val_loss:0.39275  val_acc:0.8490 - 9s(total: 135s)\n",
      "\n",
      "Epoch:164/200 loss:0.18674  acc:0.9388  val_loss:0.37884  val_acc:0.8125 - 8s(total: 144s)\n",
      "Saved checkpoint for step 7900: ./siamese_tf_ckpts\\ckpt-82\n",
      "\n",
      "Epoch:165/200 loss:0.20213  acc:0.9329  val_loss:0.37520  val_acc:0.8255 - 9s(total: 153s)\n",
      "\n",
      "Epoch:166/200 loss:0.18223  acc:0.9395  val_loss:0.31814  val_acc:0.8698 - 9s(total: 161s)\n",
      "Saved checkpoint for step 8000: ./siamese_tf_ckpts\\ckpt-83\n",
      "\n",
      "Epoch:167/200 loss:0.19319  acc:0.9375  val_loss:0.33464  val_acc:0.8568 - 9s(total: 171s)\n",
      "\n",
      "Epoch:168/200 loss:0.18748  acc:0.9388  val_loss:0.33132  val_acc:0.8646 - 9s(total: 180s)\n",
      "Saved checkpoint for step 8100: ./siamese_tf_ckpts\\ckpt-84\n",
      "\n",
      "Epoch:169/200 loss:0.18874  acc:0.9368  val_loss:0.37745  val_acc:0.8516 - 10s(total: 190s)\n",
      "\n",
      "Epoch:170/200 loss:0.18316  acc:0.9368  val_loss:0.39128  val_acc:0.8568 - 9s(total: 198s)\n",
      "Saved checkpoint for step 8200: ./siamese_tf_ckpts\\ckpt-85\n",
      "\n",
      "Epoch:171/200 loss:0.18559  acc:0.9408  val_loss:0.33258  val_acc:0.8438 - 9s(total: 208s)\n",
      "\n",
      "Epoch:172/200 loss:0.17587  acc:0.9401  val_loss:0.37560  val_acc:0.8438 - 8s(total: 216s)\n",
      "Saved checkpoint for step 8300: ./siamese_tf_ckpts\\ckpt-86\n",
      "\n",
      "Epoch:173/200 loss:0.18927  acc:0.9349  val_loss:0.35548  val_acc:0.8568 - 11s(total: 227s)\n",
      "\n",
      "Epoch:174/200 loss:0.17381  acc:0.9466  val_loss:0.39299  val_acc:0.8516 - 8s(total: 235s)\n",
      "Saved checkpoint for step 8400: ./siamese_tf_ckpts\\ckpt-87\n",
      "\n",
      "Epoch:175/200 loss:0.17238  acc:0.9447  val_loss:0.40107  val_acc:0.8646 - 9s(total: 244s)\n",
      "\n",
      "Epoch:176/200 loss:0.18500  acc:0.9421  val_loss:0.36443  val_acc:0.8542 - 8s(total: 252s)\n",
      "\n",
      "Epoch:177/200 loss:0.18852  acc:0.9323  val_loss:0.42738  val_acc:0.8229 - 8s(total: 261s)\n",
      "Saved checkpoint for step 8500: ./siamese_tf_ckpts\\ckpt-88\n",
      "\n",
      "Epoch:178/200 loss:0.17981  acc:0.9408  val_loss:0.34759  val_acc:0.8594 - 9s(total: 270s)\n",
      "\n",
      "Epoch:179/200 loss:0.16964  acc:0.9499  val_loss:0.38915  val_acc:0.8464 - 8s(total: 278s)\n",
      "Saved checkpoint for step 8600: ./siamese_tf_ckpts\\ckpt-89\n",
      "\n",
      "Epoch:180/200 loss:0.18521  acc:0.9355  val_loss:0.32439  val_acc:0.8672 - 9s(total: 288s)\n",
      "\n",
      "Epoch:181/200 loss:0.17007  acc:0.9427  val_loss:0.34042  val_acc:0.8542 - 9s(total: 296s)\n",
      "Saved checkpoint for step 8700: ./siamese_tf_ckpts\\ckpt-90\n",
      "\n",
      "Epoch:182/200 loss:0.18691  acc:0.9329  val_loss:0.35524  val_acc:0.8385 - 10s(total: 306s)\n",
      "\n",
      "Epoch:183/200 loss:0.16591  acc:0.9434  val_loss:0.34310  val_acc:0.8594 - 9s(total: 314s)\n",
      "Saved checkpoint for step 8800: ./siamese_tf_ckpts\\ckpt-91\n",
      "\n",
      "Epoch:184/200 loss:0.15810  acc:0.9544  val_loss:0.39851  val_acc:0.8464 - 10s(total: 324s)\n",
      "\n",
      "Epoch:185/200 loss:0.18118  acc:0.9336  val_loss:0.29333  val_acc:0.8828 - 9s(total: 333s)\n",
      "Saved checkpoint for step 8900: ./siamese_tf_ckpts\\ckpt-92\n",
      "\n",
      "Epoch:186/200 loss:0.19066  acc:0.9362  val_loss:0.30879  val_acc:0.8620 - 9s(total: 342s)\n",
      "\n",
      "Epoch:187/200 loss:0.18550  acc:0.9362  val_loss:0.38970  val_acc:0.8385 - 8s(total: 350s)\n",
      "Saved checkpoint for step 9000: ./siamese_tf_ckpts\\ckpt-93\n",
      "\n",
      "Epoch:188/200 loss:0.16862  acc:0.9492  val_loss:0.29235  val_acc:0.8776 - 9s(total: 359s)\n",
      "\n",
      "Epoch:189/200 loss:0.15001  acc:0.9538  val_loss:0.39749  val_acc:0.8568 - 9s(total: 368s)\n",
      "Saved checkpoint for step 9100: ./siamese_tf_ckpts\\ckpt-94\n",
      "\n",
      "Epoch:190/200 loss:0.15065  acc:0.9473  val_loss:0.36292  val_acc:0.8385 - 9s(total: 377s)\n",
      "\n",
      "Epoch:191/200 loss:0.15367  acc:0.9544  val_loss:0.36150  val_acc:0.8464 - 8s(total: 386s)\n",
      "Saved checkpoint for step 9200: ./siamese_tf_ckpts\\ckpt-95\n",
      "\n",
      "Epoch:192/200 loss:0.16150  acc:0.9453  val_loss:0.37829  val_acc:0.8385 - 9s(total: 395s)\n",
      "\n",
      "Epoch:193/200 loss:0.14209  acc:0.9603  val_loss:0.40048  val_acc:0.8203 - 8s(total: 403s)\n",
      "Saved checkpoint for step 9300: ./siamese_tf_ckpts\\ckpt-96\n",
      "\n",
      "Epoch:194/200 loss:0.16993  acc:0.9440  val_loss:0.30019  val_acc:0.8854 - 10s(total: 413s)\n",
      "\n",
      "Epoch:195/200 loss:0.16415  acc:0.9499  val_loss:0.36518  val_acc:0.8698 - 11s(total: 424s)\n",
      "Saved checkpoint for step 9400: ./siamese_tf_ckpts\\ckpt-97\n",
      "\n",
      "Epoch:196/200 loss:0.15493  acc:0.9473  val_loss:0.30966  val_acc:0.8776 - 10s(total: 434s)\n",
      "\n",
      "Epoch:197/200 loss:0.15104  acc:0.9570  val_loss:0.32566  val_acc:0.8672 - 11s(total: 445s)\n",
      "Saved checkpoint for step 9500: ./siamese_tf_ckpts\\ckpt-98\n",
      "\n",
      "Epoch:198/200 loss:0.16334  acc:0.9557  val_loss:0.40607  val_acc:0.8542 - 9s(total: 454s)\n",
      "\n",
      "Epoch:199/200 loss:0.15725  acc:0.9505  val_loss:0.35895  val_acc:0.8464 - 8s(total: 463s)\n",
      "Saved checkpoint for step 9600: ./siamese_tf_ckpts\\ckpt-99\n",
      "\n",
      "Epoch:200/200 loss:0.16792  acc:0.9427  val_loss:0.36673  val_acc:0.8516 - 9s(total: 472s)\n",
      "Saved checkpoint at the end of epoch 9600: ./siamese_tf_ckpts\\ckpt-100\n"
     ]
    }
   ],
   "source": [
    "EPOCHS = 50\n",
    "log_freq = 10  # for every few optimizer iterations. ie., weight updates\n",
    "ckpt_freq = 100 # for every few optimizer iterations. ie., weight updates\n",
    "\n",
    "global_st = perf_counter()  # Counter before training starts\n",
    "\n",
    "# take last epoch trained from model checkpoint\n",
    "last_epoch = model_ckpt.epoch.numpy()\n",
    "for epoch in range(last_epoch, last_epoch+EPOCHS, 1):    \n",
    "    # To count the time\n",
    "    local_st = perf_counter()\n",
    "    \n",
    "    # Reset the metrics at the start of the every epoch\n",
    "    train_loss.reset_states()\n",
    "    train_acc.reset_states()\n",
    "    val_loss.reset_states()\n",
    "    val_acc.reset_states()\n",
    "    \n",
    "    # training loop, It will update the metrics\n",
    "    for image1s, image2s, labels in train_ds_final:\n",
    "        model.train_step(batch=(image1s, image2s), labels=labels,\n",
    "                         train_loss=train_loss, train_acc=train_acc)\n",
    "        \n",
    "        # log the train metrics \n",
    "        if tf.equal(model.optimizer.iterations % log_freq, 0):\n",
    "            with tf.name_scope('Training'):\n",
    "                with wtrain.as_default():\n",
    "                    tf.summary.scalar(\"Loss\", train_loss.result().numpy(),\n",
    "                                      step=model.optimizer.iterations)\n",
    "                    tf.summary.scalar(\"Accuracy\", train_acc.result().numpy(),\n",
    "                                      step=model.optimizer.iterations)\n",
    "                    wtrain.flush()\n",
    "        \n",
    "        # save the model for every ckpt_freq steps\n",
    "        model_ckpt.step.assign_add(1)\n",
    "        if tf.equal(model_ckpt.step % ckpt_freq, 0):\n",
    "            save_path = model_ckpt_manager.save()\n",
    "            print(\"Saved checkpoint for step {}: {}\".format(model_ckpt.step.numpy(), save_path))\n",
    "\n",
    "    \n",
    "    # test loop, and it will update the metrics as well\n",
    "    for image1s, image2s, labels in val_ds_final:\n",
    "        model.test_step(batch=(image1s, image2s), labels=labels,\n",
    "                        test_loss=val_loss, test_acc=val_acc)\n",
    "    \n",
    "    # Update the model checkpoint epoch\n",
    "    model_ckpt.epoch.assign_add(1)\n",
    "    \n",
    "    # Update the train and validation for this epoch\n",
    "    with tf.name_scope(\"Per_Epoch\"):\n",
    "        \n",
    "        with wtrain.as_default():\n",
    "            tf.summary.scalar(\"Loss\", train_loss.result().numpy(),\n",
    "                              step=model_ckpt.epoch.numpy())\n",
    "            tf.summary.scalar(\"Accuracy\", train_acc.result().numpy(),\n",
    "                              step=model_ckpt.epoch.numpy())\n",
    "            wtrain.flush()\n",
    "\n",
    "        with wtest.as_default():\n",
    "            tf.summary.scalar(\"Loss\", val_loss.result().numpy(),\n",
    "                              step=model_ckpt.epoch.numpy())\n",
    "            tf.summary.scalar(\"Accuracy\", val_acc.result().numpy(),\n",
    "                              step=model_ckpt.epoch.numpy())\n",
    "            wtest.flush()\n",
    "    \n",
    "    \n",
    "    template = \"\\nEpoch:{}/{} loss:{:0.5f}  acc:{:0.4f}  \"\n",
    "    template += \"val_loss:{:0.5f}  val_acc:{:0.4f} - {:0.0f}s(total: {:0.0f}s)\"\n",
    "    print(template.format(epoch+1, last_epoch+EPOCHS,\n",
    "                      train_loss.result().numpy(), train_acc.result().numpy(), \n",
    "                      val_loss.result().numpy(), val_acc.result().numpy(),\n",
    "                      perf_counter()-local_st, perf_counter()-global_st))\n",
    "\n",
    "\n",
    "# Saving model at the end of training\n",
    "model_ckpt.step.assign(model.optimizer.iterations.numpy())\n",
    "save_path = model_ckpt_manager.save()\n",
    "print(\"Saved checkpoint at the end of epoch {}: {}\".format(int(model_ckpt.step), save_path))"
   ]
  },
  {
   "cell_type": "code",
   "execution_count": null,
   "metadata": {
    "Collapsed": "false"
   },
   "outputs": [],
   "source": []
  },
  {
   "cell_type": "code",
   "execution_count": null,
   "metadata": {
    "Collapsed": "false"
   },
   "outputs": [],
   "source": []
  },
  {
   "cell_type": "code",
   "execution_count": null,
   "metadata": {
    "Collapsed": "false"
   },
   "outputs": [],
   "source": []
  },
  {
   "cell_type": "code",
   "execution_count": null,
   "metadata": {
    "Collapsed": "false"
   },
   "outputs": [],
   "source": []
  }
 ],
 "metadata": {
  "kernelspec": {
   "display_name": "Python 3.7.1 64-bit ('tf2': conda)",
   "language": "python",
   "name": "python37164bittf2conda087c3d58f46c4b629d08798107e7912e"
  },
  "language_info": {
   "codemirror_mode": {
    "name": "ipython",
    "version": 3
   },
   "file_extension": ".py",
   "mimetype": "text/x-python",
   "name": "python",
   "nbconvert_exporter": "python",
   "pygments_lexer": "ipython3",
   "version": "3.7.6"
  }
 },
 "nbformat": 4,
 "nbformat_minor": 4
}
